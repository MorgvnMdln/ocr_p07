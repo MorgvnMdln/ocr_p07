{
 "cells": [
  {
   "cell_type": "markdown",
   "metadata": {},
   "source": [
    "# Notebook Exploration\n",
    "## Exploratory Data Analysis (EDA)\n",
    "### (Porject 7 - Part 01)"
   ]
  },
  {
   "cell_type": "code",
   "execution_count": null,
   "metadata": {
    "scrolled": true
   },
   "outputs": [],
   "source": [
    "%load_ext autotime"
   ]
  },
  {
   "cell_type": "code",
   "execution_count": null,
   "metadata": {},
   "outputs": [],
   "source": [
    "%load_ext pycodestyle_magic"
   ]
  },
  {
   "cell_type": "code",
   "execution_count": null,
   "metadata": {},
   "outputs": [],
   "source": [
    "%flake8_on\n",
    "# verifier la syntaxe du code et fournir des instructions sur la facon de le nettoyer"
   ]
  },
  {
   "cell_type": "code",
   "execution_count": null,
   "metadata": {},
   "outputs": [],
   "source": [
    "%matplotlib inline\n",
    "# Graphics are insert in the notebook rather than an external window"
   ]
  },
  {
   "cell_type": "code",
   "execution_count": null,
   "metadata": {},
   "outputs": [],
   "source": [
    "import os\n",
    "import sys\n",
    "import numpy as np\n",
    "import pandas as pd\n",
    "\n",
    "print('Version python : ' + sys.version)\n",
    "print('Version numPy : ' + np.version.full_version)"
   ]
  },
  {
   "cell_type": "code",
   "execution_count": null,
   "metadata": {},
   "outputs": [],
   "source": [
    "# Parametrage de l'affichage totale de toutes les lignes et colonnes\n",
    "# des sorties de code\n",
    "pd.set_option('display.max_row', None)\n",
    "pd.set_option('display.max_column', None)"
   ]
  },
  {
   "cell_type": "code",
   "execution_count": null,
   "metadata": {},
   "outputs": [],
   "source": [
    "# %%bash\n",
    "# pwd\n",
    "print(os.getcwd())"
   ]
  },
  {
   "cell_type": "code",
   "execution_count": null,
   "metadata": {
    "_cell_guid": "b1076dfc-b9ad-4769-8c92-a6c4dae69d19",
    "_uuid": "8f2839f25d086af736a60e9eeb907d3b93b6e0e5",
    "execution": {
     "iopub.execute_input": "2022-06-16T14:20:49.801962Z",
     "iopub.status.busy": "2022-06-16T14:20:49.801461Z",
     "iopub.status.idle": "2022-06-16T14:20:49.808565Z",
     "shell.execute_reply": "2022-06-16T14:20:49.807563Z",
     "shell.execute_reply.started": "2022-06-16T14:20:49.801923Z"
    },
    "scrolled": true
   },
   "outputs": [],
   "source": [
    "path = str(os.getcwd())\n",
    "list_of_files = []\n",
    "\n",
    "for root, dirs, files in os.walk(path):\n",
    "    for file in files:\n",
    "        if(file.endswith(\".csv\")):\n",
    "            list_of_files.append(os.path.join(root, file))\n",
    "for name in list_of_files:\n",
    "    print(name)"
   ]
  },
  {
   "cell_type": "code",
   "execution_count": null,
   "metadata": {},
   "outputs": [],
   "source": [
    "data_path = 'data'\n",
    "application_train_file = 'application_train.csv'\n",
    "application_test_file = 'application_test.csv'\n",
    "application_train_file = 'application_train.csv'\n",
    "bureau_file = 'bureau.csv'\n",
    "bureau_balance_file = 'bureau_balance.csv'\n",
    "credit_card_balance_file = 'credit_card_balance.csv'\n",
    "HomeCredit_columns_description_file = 'HomeCredit_columns_description.csv'\n",
    "installments_payments_file = 'installments_payments.csv'\n",
    "POS_CASH_balance_file = 'POS_CASH_balance.csv'\n",
    "previous_application_file = 'previous_application.csv'\n",
    "sample_submission_file = 'sample_submission.csv'"
   ]
  },
  {
   "cell_type": "markdown",
   "metadata": {},
   "source": [
    "# Import Libraries"
   ]
  },
  {
   "cell_type": "code",
   "execution_count": null,
   "metadata": {
    "_kg_hide-output": true,
    "execution": {
     "iopub.execute_input": "2022-06-16T14:20:50.255435Z",
     "iopub.status.busy": "2022-06-16T14:20:50.254901Z",
     "iopub.status.idle": "2022-06-16T14:20:53.075682Z",
     "shell.execute_reply": "2022-06-16T14:20:53.074797Z",
     "shell.execute_reply.started": "2022-06-16T14:20:50.255393Z"
    }
   },
   "outputs": [],
   "source": [
    "import seaborn as sns\n",
    "import matplotlib.pyplot as plt\n",
    "\n",
    "# import plotly.graph_objs as go\n",
    "from plotly.offline import iplot\n",
    "import plotly.express as px\n",
    "\n",
    "import plotly.figure_factory as ff\n",
    "import plotly.graph_objects as go\n",
    "\n",
    "# ----------------------------------------------------\n",
    "import warnings\n",
    "warnings.filterwarnings(\"ignore\")"
   ]
  },
  {
   "cell_type": "markdown",
   "metadata": {},
   "source": [
    "# Data Understanding"
   ]
  },
  {
   "cell_type": "markdown",
   "metadata": {},
   "source": [
    "Description des dataframes :\n",
    "\n",
    "\n",
    "**application_{train|test}.csv :**\n",
    "\n",
    "    • Il s'agit de la table principale, divisée en deux fichiers pour Train (avec TARGET) et Test (sans TARGET).\n",
    "    • Données statiques pour toutes les applications. *Une ligne représente un prêt dans notre échantillon de données*.\n",
    "\n",
    "**bureau.csv :**\n",
    "\n",
    "    • Tous les crédits antérieurs du client fournis par d'autres institutions financières qui ont été signalés au bureau de crédit (pour les clients qui ont un prêt dans notre échantillon).\n",
    "    • Pour chaque prêt de notre échantillon, il y a autant de lignes que le nombre de crédits que le client avait dans le Bureau de crédit avant la date de la demande.\n",
    "\n",
    "**bureau_balance.csv :**\n",
    "\n",
    "    • Les soldes mensuels des crédits précédents dans le Bureau de crédit.\n",
    "    • Ce tableau comporte une ligne pour chaque mois d'historique de chaque crédit précédent signalé au bureau de crédit - c'est-à-dire que le tableau contient (#prêts dans l'échantillon * # de crédits précédents relatifs * # de mois où nous avons un historique observable pour les crédits précédents) Lignes.\n",
    "\n",
    "**POS_CASH_balance.csv :**\n",
    "\n",
    "    • Captures instantanées mensuelles du solde des points de vente précédents et des prêts en espèces que le demandeur avait contractés avec Home Credit.\n",
    "    • Ce tableau a une ligne pour chaque mois d'historique de chaque crédit précédent dans Home Credit (crédit à la consommation et prêts de trésorerie) lié aux prêts de notre échantillon - c'est-à-dire que le tableau a (#prêts dans l'échantillon * # de crédits précédents relatifs * # de mois au cours desquels nous avons un historique observable pour les crédits précédents) lignes.\n",
    "\n",
    "**credit_card_balance.csv :**\n",
    "\n",
    "    • captures Instantanées mensuelles du solde des cartes de crédit précédentes que le demandeur a avec Home Credit.\n",
    "    • Ce tableau comporte une ligne pour chaque mois d'historique de chaque crédit précédent dans Home Credit (crédit à la consommation et prêts de trésorerie) liés aux prêts de notre échantillon - c'est-à-dire que le tableau contient (#prêts dans l'échantillon * # de cartes de crédit précédentes relatives * # de mois où nous avons un historique observable pour la carte de crédit précédente).\n",
    "\n",
    "**previous_application.csv :**\n",
    "\n",
    "    • Toutes les demandes précédentes de prêts Home Credit des clients qui ont des prêts dans notre échantillon.\n",
    "    • Il y a une ligne pour chaque demande précédente liée à des prêts dans notre échantillon de données.\n",
    "\n",
    "**installments_payments.csv :**\n",
    "\n",
    "    • Historique de remboursement des crédits précédemment décaissés en Home Credit liés aux prêts de notre échantillon.\n",
    "    • Il y a a) une ligne pour chaque paiement effectué plus b) une ligne pour chaque paiement manqué.\n",
    "    • Une ligne équivaut à un versement d'une échéance OU une échéance correspondant à un versement d'un précédent crédit immobilier lié aux prêts de notre échantillon.\n",
    "\n",
    "**HomeCredit_columns_description.csv :**\n",
    "\n",
    "    Ce fichier contient les descriptions des colonnes des différents fichiers de données."
   ]
  },
  {
   "cell_type": "markdown",
   "metadata": {},
   "source": [
    "**HomeCredit_columns_description.csv :**"
   ]
  },
  {
   "cell_type": "code",
   "execution_count": null,
   "metadata": {
    "execution": {
     "iopub.execute_input": "2022-06-16T14:20:53.077836Z",
     "iopub.status.busy": "2022-06-16T14:20:53.077516Z",
     "iopub.status.idle": "2022-06-16T14:21:01.373746Z",
     "shell.execute_reply": "2022-06-16T14:21:01.372935Z",
     "shell.execute_reply.started": "2022-06-16T14:20:53.077808Z"
    },
    "scrolled": true
   },
   "outputs": [],
   "source": [
    "HomeCredit_columns_description = pd.read_csv(os.path.join\n",
    "                                             (data_path,\n",
    "                                              HomeCredit_columns_description_file),\n",
    "                                             encoding='ISO-8859-1')\n",
    "HomeCredit_columns_description"
   ]
  },
  {
   "cell_type": "code",
   "execution_count": null,
   "metadata": {},
   "outputs": [],
   "source": [
    "HomeCredit_columns_description.Description.loc[1]\n",
    "# HomeCredit_columns_description.loc[HomeCredit_columns_description['Row'] == 'AMT_GOODS_PRICE']"
   ]
  },
  {
   "cell_type": "markdown",
   "metadata": {},
   "source": [
    "**application_{train|test}.csv**\n",
    "* Il s'agit du tableau principal, divisé en deux fichiers pour Train (avec TARGET) et Test (sans TARGET).\n",
    "* Données statiques pour toutes les applications. Une ligne représente un prêt dans notre échantillon de données.\n",
    "<a href =\"https://www.kaggle.com/competitions/home-credit-default-risk/data\" >ref</a></div>"
   ]
  },
  {
   "cell_type": "code",
   "execution_count": null,
   "metadata": {
    "execution": {
     "iopub.execute_input": "2022-06-16T14:20:53.077836Z",
     "iopub.status.busy": "2022-06-16T14:20:53.077516Z",
     "iopub.status.idle": "2022-06-16T14:21:01.373746Z",
     "shell.execute_reply": "2022-06-16T14:21:01.372935Z",
     "shell.execute_reply.started": "2022-06-16T14:20:53.077808Z"
    }
   },
   "outputs": [],
   "source": [
    "application_train = pd.read_csv(os.path.join(data_path, application_train_file))\n",
    "application_train.head()"
   ]
  },
  {
   "cell_type": "markdown",
   "metadata": {},
   "source": [
    "**bureau_balance.csv**\n",
    "* Soldes mensuels des crédits précédents dans le bureau de crédit.\n",
    "* Ce tableau comporte une ligne pour chaque mois d'historique de chaque crédit précédent signalé au bureau de crédit - c'est-à-dire que le tableau a (#prêts dans l'échantillon * # de crédits précédents relatifs * # de mois où nous avons un historique observable pour les crédits précédents) Lignes.\n",
    "<a href =\"https://www.kaggle.com/competitions/home-credit-default-risk/data\" >ref</a>"
   ]
  },
  {
   "cell_type": "code",
   "execution_count": null,
   "metadata": {
    "execution": {
     "iopub.execute_input": "2022-06-16T14:21:01.375259Z",
     "iopub.status.busy": "2022-06-16T14:21:01.374952Z",
     "iopub.status.idle": "2022-06-16T14:21:18.412516Z",
     "shell.execute_reply": "2022-06-16T14:21:18.411165Z",
     "shell.execute_reply.started": "2022-06-16T14:21:01.375233Z"
    }
   },
   "outputs": [],
   "source": [
    "bureau_balance = pd.read_csv(os.path.join(data_path, bureau_balance_file))\n",
    "bureau_balance.head()"
   ]
  },
  {
   "cell_type": "markdown",
   "metadata": {},
   "source": [
    "**POS_CASH_balance.csv :**\n",
    "\n",
    "    • Captures instantanées mensuelles du solde des points de vente précédents et des prêts en espèces que le demandeur avait contracté avec Home Credit.\n",
    "    • Ce tableau a une ligne pour chaque mois d'historique de chaque crédit précédent dans Home Credit (crédit à la consommation et prêts de trésorerie) lié aux prêts de notre échantillon - c'est-à-dire que le tableau a (#prêts dans l'échantillon * # de crédits précédents relatifs * # de mois au cours desquels nous avons un historique observable pour les crédits précédents) lignes.\n",
    "<a href =\"https://www.kaggle.com/competitions/home-credit-default-risk/data\" >ref</a>    "
   ]
  },
  {
   "cell_type": "code",
   "execution_count": null,
   "metadata": {
    "execution": {
     "iopub.execute_input": "2022-06-16T14:21:18.415363Z",
     "iopub.status.busy": "2022-06-16T14:21:18.414856Z",
     "iopub.status.idle": "2022-06-16T14:21:32.037764Z",
     "shell.execute_reply": "2022-06-16T14:21:32.036821Z",
     "shell.execute_reply.started": "2022-06-16T14:21:18.415303Z"
    }
   },
   "outputs": [],
   "source": [
    "POS_CASH_balance = pd.read_csv(os.path.join(data_path, POS_CASH_balance_file))\n",
    "POS_CASH_balance.head()"
   ]
  },
  {
   "cell_type": "markdown",
   "metadata": {},
   "source": [
    "**previous_application.csv:**\n",
    "\n",
    "    * Toutes les demandes précédentes de prêts Home Credit des clients qui ont des prêts dans notre échantillon.\n",
    "    * Il y a une ligne pour chaque demande précédente liée à des prêts dans notre échantillon de données.\n",
    "<a href =\"https://www.kaggle.com/competitions/home-credit-default-risk/data\" >ref</a> "
   ]
  },
  {
   "cell_type": "code",
   "execution_count": null,
   "metadata": {
    "execution": {
     "iopub.execute_input": "2022-06-16T14:21:32.04029Z",
     "iopub.status.busy": "2022-06-16T14:21:32.03985Z",
     "iopub.status.idle": "2022-06-16T14:21:49.661629Z",
     "shell.execute_reply": "2022-06-16T14:21:49.66071Z",
     "shell.execute_reply.started": "2022-06-16T14:21:32.040256Z"
    }
   },
   "outputs": [],
   "source": [
    "previous_application = pd.read_csv(os.path.join(data_path, previous_application_file))\n",
    "previous_application.head()"
   ]
  },
  {
   "cell_type": "markdown",
   "metadata": {},
   "source": [
    "**credit_card_balance.csv:**\n",
    "\n",
    "    • Capture instantanées mensuelles du solde des cartes de crédit précédentes que le demandeur a avec Home Credit.\n",
    "    • Ce tableau comporte une ligne pour chaque mois d'historique de chaque crédit précédent dans Home Credit (crédit à la consommation et prêts de trésorerie) liés aux prêts de notre échantillon - c'est-à-dire que le tableau contient (#prêts dans l'échantillon * # de cartes de crédit précédentes relatives * # de mois où nous avons un historique observable pour la carte de crédit précédente).\n",
    "<a href =\"https://www.kaggle.com/competitions/home-credit-default-risk/data\" >ref</a> "
   ]
  },
  {
   "cell_type": "code",
   "execution_count": null,
   "metadata": {
    "execution": {
     "iopub.execute_input": "2022-06-16T14:21:49.662973Z",
     "iopub.status.busy": "2022-06-16T14:21:49.662659Z",
     "iopub.status.idle": "2022-06-16T14:22:06.84873Z",
     "shell.execute_reply": "2022-06-16T14:22:06.847806Z",
     "shell.execute_reply.started": "2022-06-16T14:21:49.662947Z"
    }
   },
   "outputs": [],
   "source": [
    "credit_card_balance = pd.read_csv(os.path.join(data_path, credit_card_balance_file))\n",
    "credit_card_balance.head()"
   ]
  },
  {
   "cell_type": "markdown",
   "metadata": {},
   "source": [
    "**installments_payments.csv:**\n",
    "\n",
    "    • Historique de remboursement des crédits précédemment décaissés en Home Credit liés aux prêts de notre échantillon.\n",
    "    • Il y a a) une ligne pour chaque paiement effectué plus b) une ligne pour chaque paiement manqué.\n",
    "    • Une ligne équivaut à un versement d'une échéance OU une échéance correspondant à un versement d'un précédent crédit immobilier lié aux prêts de notre échantillon.\n",
    "<a href =\"https://www.kaggle.com/competitions/home-credit-default-risk/data\" >ref</a> "
   ]
  },
  {
   "cell_type": "code",
   "execution_count": null,
   "metadata": {
    "execution": {
     "iopub.execute_input": "2022-06-16T14:22:06.850489Z",
     "iopub.status.busy": "2022-06-16T14:22:06.85006Z",
     "iopub.status.idle": "2022-06-16T14:22:27.310144Z",
     "shell.execute_reply": "2022-06-16T14:22:27.309115Z",
     "shell.execute_reply.started": "2022-06-16T14:22:06.850459Z"
    }
   },
   "outputs": [],
   "source": [
    "installments_payments = pd.read_csv(os.path.join(data_path, installments_payments_file))\n",
    "installments_payments.head()"
   ]
  },
  {
   "cell_type": "markdown",
   "metadata": {},
   "source": [
    "**bureau.csv:**\n",
    "\n",
    "    • Tous les crédits antérieurs du client fournis par d'autres institutions financières qui ont été signalés au bureau de crédit (pour les clients qui ont un prêt dans notre échantillon).\n",
    "    • Pour chaque prêt de notre échantillon, il y a autant de lignes que le nombre de crédits que le client avait dans le Bureau de crédit avant la date de la demande.\n",
    "<a href =\"https://www.kaggle.com/competitions/home-credit-default-risk/data\" >ref</a> "
   ]
  },
  {
   "cell_type": "code",
   "execution_count": null,
   "metadata": {
    "execution": {
     "iopub.execute_input": "2022-06-16T14:22:27.311721Z",
     "iopub.status.busy": "2022-06-16T14:22:27.311399Z",
     "iopub.status.idle": "2022-06-16T14:22:32.404166Z",
     "shell.execute_reply": "2022-06-16T14:22:32.402984Z",
     "shell.execute_reply.started": "2022-06-16T14:22:27.311695Z"
    },
    "scrolled": true
   },
   "outputs": [],
   "source": [
    "bureau = pd.read_csv(os.path.join(data_path, bureau_file))\n",
    "bureau.head()"
   ]
  },
  {
   "cell_type": "code",
   "execution_count": null,
   "metadata": {
    "execution": {
     "iopub.execute_input": "2022-06-16T14:22:32.406245Z",
     "iopub.status.busy": "2022-06-16T14:22:32.405705Z",
     "iopub.status.idle": "2022-06-16T14:22:32.411758Z",
     "shell.execute_reply": "2022-06-16T14:22:32.410741Z",
     "shell.execute_reply.started": "2022-06-16T14:22:32.406201Z"
    }
   },
   "outputs": [],
   "source": [
    "files_names = ['application_train', 'bureau_balance',\n",
    "               'POS_CASH_balance', 'previous_application',\n",
    "               'credit_card_balance', 'installments_payments', 'bureau']\n",
    "\n",
    "files = [application_train, bureau_balance,\n",
    "         POS_CASH_balance, previous_application,\n",
    "         credit_card_balance, installments_payments, bureau]"
   ]
  },
  {
   "cell_type": "code",
   "execution_count": null,
   "metadata": {
    "execution": {
     "iopub.execute_input": "2022-06-16T14:22:32.41343Z",
     "iopub.status.busy": "2022-06-16T14:22:32.413028Z",
     "iopub.status.idle": "2022-06-16T14:22:33.709181Z",
     "shell.execute_reply": "2022-06-16T14:22:33.708172Z",
     "shell.execute_reply.started": "2022-06-16T14:22:32.413398Z"
    }
   },
   "outputs": [],
   "source": [
    "for i in range(len(files)):\n",
    "    print('{}: \\n'.format(files_names[i]))\n",
    "    print('Shape is: ', files[i].shape, '\\n')\n",
    "    print(files[i].info(verbose=True))\n",
    "    print('\\n\\n*****************************************\\n\\n')"
   ]
  },
  {
   "cell_type": "code",
   "execution_count": null,
   "metadata": {
    "execution": {
     "iopub.execute_input": "2022-06-16T14:22:33.710657Z",
     "iopub.status.busy": "2022-06-16T14:22:33.710342Z",
     "iopub.status.idle": "2022-06-16T14:22:34.023965Z",
     "shell.execute_reply": "2022-06-16T14:22:34.023Z",
     "shell.execute_reply.started": "2022-06-16T14:22:33.710629Z"
    }
   },
   "outputs": [],
   "source": [
    "concat_application_train = pd.concat([application_train\n",
    "                                      .isnull()\n",
    "                                      .sum()\n",
    "                                      .reset_index(name='sum_of_nulls'),\n",
    "                                      application_train.dtypes\n",
    "                                      .reset_index(name=\"dtypes\")],\n",
    "                                     axis=1).T.drop_duplicates().T\n",
    "\n",
    "concat_application_train.sort_values('sum_of_nulls', ascending=False)"
   ]
  },
  {
   "cell_type": "code",
   "execution_count": null,
   "metadata": {
    "execution": {
     "iopub.execute_input": "2022-06-16T14:22:34.026619Z",
     "iopub.status.busy": "2022-06-16T14:22:34.025836Z",
     "iopub.status.idle": "2022-06-16T14:22:35.269005Z",
     "shell.execute_reply": "2022-06-16T14:22:35.267826Z",
     "shell.execute_reply.started": "2022-06-16T14:22:34.02657Z"
    }
   },
   "outputs": [],
   "source": [
    "concat_bureau_balance = pd.concat(\n",
    "                                  [bureau_balance\n",
    "                                   .isnull().sum()\n",
    "                                   .reset_index(name='sum_of_nulls'),\n",
    "                                   bureau_balance.dtypes\n",
    "                                   .reset_index(name=\"dtypes\")],\n",
    "                                  axis=1).T.drop_duplicates().T\n",
    "\n",
    "concat_bureau_balance.sort_values('sum_of_nulls', ascending=False)"
   ]
  },
  {
   "cell_type": "code",
   "execution_count": null,
   "metadata": {
    "execution": {
     "iopub.execute_input": "2022-06-16T14:22:35.27126Z",
     "iopub.status.busy": "2022-06-16T14:22:35.270633Z",
     "iopub.status.idle": "2022-06-16T14:22:35.817946Z",
     "shell.execute_reply": "2022-06-16T14:22:35.81684Z",
     "shell.execute_reply.started": "2022-06-16T14:22:35.271208Z"
    }
   },
   "outputs": [],
   "source": [
    "concat_POS_CASH_balance = pd.concat([POS_CASH_balance.isnull()\n",
    "                                     .sum()\n",
    "                                     .reset_index(name='sum_of_nulls'),\n",
    "                                     POS_CASH_balance.dtypes\n",
    "                                     .reset_index(name=\"dtypes\")],\n",
    "                                    axis=1).T.drop_duplicates().T\n",
    "\n",
    "concat_POS_CASH_balance.sort_values('sum_of_nulls', ascending=False)"
   ]
  },
  {
   "cell_type": "code",
   "execution_count": null,
   "metadata": {
    "execution": {
     "iopub.execute_input": "2022-06-16T14:22:35.821501Z",
     "iopub.status.busy": "2022-06-16T14:22:35.82116Z",
     "iopub.status.idle": "2022-06-16T14:22:37.178061Z",
     "shell.execute_reply": "2022-06-16T14:22:37.176972Z",
     "shell.execute_reply.started": "2022-06-16T14:22:35.821471Z"
    },
    "scrolled": true
   },
   "outputs": [],
   "source": [
    "concat_previous_application = pd.concat([previous_application\n",
    "                                         .isnull().sum()\n",
    "                                         .reset_index(name='sum_of_nulls'),\n",
    "                                         previous_application.dtypes\n",
    "                                         .reset_index(name=\"dtypes\")],\n",
    "                                        axis=1).T.drop_duplicates().T\n",
    "\n",
    "concat_previous_application.sort_values('sum_of_nulls', ascending=False)"
   ]
  },
  {
   "cell_type": "code",
   "execution_count": null,
   "metadata": {
    "execution": {
     "iopub.execute_input": "2022-06-16T14:22:37.179889Z",
     "iopub.status.busy": "2022-06-16T14:22:37.179432Z",
     "iopub.status.idle": "2022-06-16T14:22:37.538325Z",
     "shell.execute_reply": "2022-06-16T14:22:37.537236Z",
     "shell.execute_reply.started": "2022-06-16T14:22:37.179843Z"
    }
   },
   "outputs": [],
   "source": [
    "concat_credit_card_balance = pd.concat([credit_card_balance\n",
    "                                        .isnull().sum()\n",
    "                                        .reset_index(name='sum_of_nulls'),\n",
    "                                        credit_card_balance.dtypes\n",
    "                                        .reset_index(name=\"dtypes\")],\n",
    "                                       axis=1).T.drop_duplicates().T\n",
    "\n",
    "concat_credit_card_balance.sort_values('sum_of_nulls', ascending=False)"
   ]
  },
  {
   "cell_type": "code",
   "execution_count": null,
   "metadata": {
    "execution": {
     "iopub.execute_input": "2022-06-16T14:22:37.539885Z",
     "iopub.status.busy": "2022-06-16T14:22:37.539558Z",
     "iopub.status.idle": "2022-06-16T14:22:37.75783Z",
     "shell.execute_reply": "2022-06-16T14:22:37.756932Z",
     "shell.execute_reply.started": "2022-06-16T14:22:37.539848Z"
    }
   },
   "outputs": [],
   "source": [
    "concat_installments_payments = pd.concat([installments_payments\n",
    "                                          .isnull().sum()\n",
    "                                          .reset_index(name='sum_of_nulls'),\n",
    "                                          installments_payments.dtypes\n",
    "                                          .reset_index(name=\"dtypes\")],\n",
    "                                         axis=1).T.drop_duplicates().T\n",
    "\n",
    "concat_installments_payments.sort_values('sum_of_nulls', ascending=False)"
   ]
  },
  {
   "cell_type": "code",
   "execution_count": null,
   "metadata": {
    "execution": {
     "iopub.execute_input": "2022-06-16T14:22:37.760002Z",
     "iopub.status.busy": "2022-06-16T14:22:37.75962Z",
     "iopub.status.idle": "2022-06-16T14:22:38.075663Z",
     "shell.execute_reply": "2022-06-16T14:22:38.074837Z",
     "shell.execute_reply.started": "2022-06-16T14:22:37.759971Z"
    }
   },
   "outputs": [],
   "source": [
    "concat_bureau = pd.concat([bureau.isnull().sum()\n",
    "                           .reset_index(name='sum_of_nulls'),\n",
    "                           bureau.dtypes\n",
    "                           .reset_index(name=\"dtypes\")],\n",
    "                          axis=1).T.drop_duplicates().T\n",
    "\n",
    "concat_bureau.sort_values('sum_of_nulls', ascending=False)"
   ]
  },
  {
   "cell_type": "markdown",
   "metadata": {},
   "source": [
    "# 1. application_train"
   ]
  },
  {
   "cell_type": "markdown",
   "metadata": {},
   "source": [
    "<div style=\"border-radius:10px;\n",
    "            background-color:#ffffff;\n",
    "            border-style: solid;\n",
    "            border-color: #410159;\n",
    "            letter-spacing:0.5px;\">\n",
    "\n",
    "<center><h3 style=\"padding: 5px 0px; color:#410159; font-weight: bold; font-family: Cursive\">\n",
    "TARGET</h3></center>\n",
    "</div>"
   ]
  },
  {
   "cell_type": "markdown",
   "metadata": {},
   "source": [
    "## Number of clients in each class of the TARGET"
   ]
  },
  {
   "cell_type": "code",
   "execution_count": null,
   "metadata": {
    "_kg_hide-input": true,
    "execution": {
     "iopub.execute_input": "2022-06-16T14:22:38.0795Z",
     "iopub.status.busy": "2022-06-16T14:22:38.078827Z",
     "iopub.status.idle": "2022-06-16T14:22:40.091715Z",
     "shell.execute_reply": "2022-06-16T14:22:40.09062Z",
     "shell.execute_reply.started": "2022-06-16T14:22:38.079464Z"
    }
   },
   "outputs": [],
   "source": [
    "fig = px.histogram(application_train, x=\"TARGET\",\n",
    "                   barmode='group').update_xaxes(categoryorder = \"total descending\")\n",
    "fig.update_layout(bargap=0.2)\n",
    "fig.show()"
   ]
  },
  {
   "cell_type": "markdown",
   "metadata": {},
   "source": [
    "## Number of clients by gender"
   ]
  },
  {
   "cell_type": "code",
   "execution_count": null,
   "metadata": {
    "_kg_hide-input": true,
    "execution": {
     "iopub.execute_input": "2022-06-16T14:22:40.094013Z",
     "iopub.status.busy": "2022-06-16T14:22:40.093277Z",
     "iopub.status.idle": "2022-06-16T14:22:42.106159Z",
     "shell.execute_reply": "2022-06-16T14:22:42.10496Z",
     "shell.execute_reply.started": "2022-06-16T14:22:40.09397Z"
    }
   },
   "outputs": [],
   "source": [
    "fig = px.histogram(application_train, x=\"CODE_GENDER\",\n",
    "                   barmode='group').update_xaxes(categoryorder = \"total descending\")\n",
    "fig.update_layout(bargap=0.2)\n",
    "fig.show()"
   ]
  },
  {
   "cell_type": "markdown",
   "metadata": {},
   "source": [
    "## Number of clients in each target class by gender"
   ]
  },
  {
   "cell_type": "code",
   "execution_count": null,
   "metadata": {
    "_kg_hide-input": true,
    "execution": {
     "iopub.execute_input": "2022-06-16T14:22:42.107747Z",
     "iopub.status.busy": "2022-06-16T14:22:42.107386Z",
     "iopub.status.idle": "2022-06-16T14:22:43.383963Z",
     "shell.execute_reply": "2022-06-16T14:22:43.383151Z",
     "shell.execute_reply.started": "2022-06-16T14:22:42.107715Z"
    }
   },
   "outputs": [],
   "source": [
    "fig = px.histogram(application_train, x=\"TARGET\",\n",
    "             color='CODE_GENDER', barmode='group').update_xaxes(categoryorder = \"total descending\")\n",
    "fig.show()"
   ]
  },
  {
   "cell_type": "markdown",
   "metadata": {},
   "source": [
    "## Number of clients in each target class by contract type and the gender of each client"
   ]
  },
  {
   "cell_type": "code",
   "execution_count": null,
   "metadata": {
    "_kg_hide-input": true,
    "execution": {
     "iopub.execute_input": "2022-06-16T14:22:43.385715Z",
     "iopub.status.busy": "2022-06-16T14:22:43.385217Z",
     "iopub.status.idle": "2022-06-16T14:22:44.57029Z",
     "shell.execute_reply": "2022-06-16T14:22:44.569482Z",
     "shell.execute_reply.started": "2022-06-16T14:22:43.385681Z"
    }
   },
   "outputs": [],
   "source": [
    "fig = px.histogram(application_train, x=\"TARGET\",\n",
    "                   color=\"CODE_GENDER\", barmode='group', \n",
    "                   facet_col='NAME_CONTRACT_TYPE').update_xaxes(categoryorder = \"total descending\")\n",
    "fig.show()"
   ]
  },
  {
   "cell_type": "markdown",
   "metadata": {},
   "source": [
    "## Number of clients in each target class by car ownership and gender of each client"
   ]
  },
  {
   "cell_type": "code",
   "execution_count": null,
   "metadata": {
    "_kg_hide-input": true,
    "execution": {
     "iopub.execute_input": "2022-06-16T14:22:44.57195Z",
     "iopub.status.busy": "2022-06-16T14:22:44.571477Z",
     "iopub.status.idle": "2022-06-16T14:22:45.684657Z",
     "shell.execute_reply": "2022-06-16T14:22:45.683718Z",
     "shell.execute_reply.started": "2022-06-16T14:22:44.571918Z"
    }
   },
   "outputs": [],
   "source": [
    "fig = px.histogram(application_train, x=\"TARGET\",\n",
    "                   color=\"CODE_GENDER\", barmode='group', \n",
    "                   facet_col='FLAG_OWN_CAR').update_xaxes(categoryorder = \"total descending\")\n",
    "fig.show()"
   ]
  },
  {
   "cell_type": "markdown",
   "metadata": {},
   "source": [
    "## Number of clients in each target class by realty ownership and gender of each client"
   ]
  },
  {
   "cell_type": "code",
   "execution_count": null,
   "metadata": {
    "_kg_hide-input": true,
    "execution": {
     "iopub.execute_input": "2022-06-16T14:22:45.686054Z",
     "iopub.status.busy": "2022-06-16T14:22:45.685726Z",
     "iopub.status.idle": "2022-06-16T14:22:46.93278Z",
     "shell.execute_reply": "2022-06-16T14:22:46.931892Z",
     "shell.execute_reply.started": "2022-06-16T14:22:45.686025Z"
    }
   },
   "outputs": [],
   "source": [
    "fig = px.histogram(application_train, x=\"TARGET\",\n",
    "                   color=\"CODE_GENDER\", barmode='group', \n",
    "                   facet_col='FLAG_OWN_REALTY').update_xaxes(categoryorder = \"total descending\")\n",
    "fig.show()"
   ]
  },
  {
   "cell_type": "markdown",
   "metadata": {},
   "source": [
    "## Number of clients in each target class by car ownership and contract type"
   ]
  },
  {
   "cell_type": "code",
   "execution_count": null,
   "metadata": {
    "_kg_hide-input": true,
    "execution": {
     "iopub.execute_input": "2022-06-16T14:22:46.93404Z",
     "iopub.status.busy": "2022-06-16T14:22:46.933724Z",
     "iopub.status.idle": "2022-06-16T14:22:48.837432Z",
     "shell.execute_reply": "2022-06-16T14:22:48.836247Z",
     "shell.execute_reply.started": "2022-06-16T14:22:46.934012Z"
    }
   },
   "outputs": [],
   "source": [
    "fig = px.histogram(application_train, x=\"NAME_CONTRACT_TYPE\",\n",
    "             color=\"FLAG_OWN_CAR\", barmode='group', \n",
    "                   facet_col='TARGET').update_xaxes(categoryorder = \"total descending\")\n",
    "\n",
    "fig.show()"
   ]
  },
  {
   "cell_type": "markdown",
   "metadata": {},
   "source": [
    "## Number of clients in each target class by car and realty ownership"
   ]
  },
  {
   "cell_type": "code",
   "execution_count": null,
   "metadata": {
    "_kg_hide-input": true,
    "execution": {
     "iopub.execute_input": "2022-06-16T14:22:48.839747Z",
     "iopub.status.busy": "2022-06-16T14:22:48.839037Z",
     "iopub.status.idle": "2022-06-16T14:22:50.843687Z",
     "shell.execute_reply": "2022-06-16T14:22:50.842936Z",
     "shell.execute_reply.started": "2022-06-16T14:22:48.839697Z"
    }
   },
   "outputs": [],
   "source": [
    "fig = px.histogram(application_train, x=\"FLAG_OWN_REALTY\",\n",
    "             color=\"FLAG_OWN_CAR\", barmode='group', \n",
    "                   facet_col='TARGET').update_xaxes(categoryorder = \"total descending\")\n",
    "\n",
    "fig.show()"
   ]
  },
  {
   "cell_type": "markdown",
   "metadata": {},
   "source": [
    "## Number of clients in each target class by realty ownership and contract type"
   ]
  },
  {
   "cell_type": "code",
   "execution_count": null,
   "metadata": {
    "_kg_hide-input": true,
    "execution": {
     "iopub.execute_input": "2022-06-16T14:22:50.845582Z",
     "iopub.status.busy": "2022-06-16T14:22:50.844776Z",
     "iopub.status.idle": "2022-06-16T14:22:52.769916Z",
     "shell.execute_reply": "2022-06-16T14:22:52.767679Z",
     "shell.execute_reply.started": "2022-06-16T14:22:50.845526Z"
    }
   },
   "outputs": [],
   "source": [
    "fig = px.histogram(application_train, x=\"NAME_CONTRACT_TYPE\",\n",
    "             color=\"FLAG_OWN_REALTY\", barmode='group', \n",
    "                   facet_col='TARGET').update_xaxes(categoryorder = \"total descending\")\n",
    "fig.show()"
   ]
  },
  {
   "cell_type": "markdown",
   "metadata": {},
   "source": [
    "<div style=\"border-radius:10px;\n",
    "            background-color:#ffffff;\n",
    "            border-style: solid;\n",
    "            border-color: #410159;\n",
    "            letter-spacing:0.5px;\">\n",
    "\n",
    "<center><h3 style=\"padding: 5px 0px; color:#410159; font-weight: bold; font-family: Cursive\">\n",
    "LIVE_CITY_NOT_WORK_CITY</h3></center>\n",
    "</div>"
   ]
  },
  {
   "cell_type": "markdown",
   "metadata": {},
   "source": [
    "## Number of clients in each target class by LIVE_CITY_NOT_WORK_CITY"
   ]
  },
  {
   "cell_type": "code",
   "execution_count": null,
   "metadata": {
    "_kg_hide-input": true,
    "execution": {
     "iopub.execute_input": "2022-06-16T14:22:52.771655Z",
     "iopub.status.busy": "2022-06-16T14:22:52.771244Z",
     "iopub.status.idle": "2022-06-16T14:22:54.035354Z",
     "shell.execute_reply": "2022-06-16T14:22:54.034436Z",
     "shell.execute_reply.started": "2022-06-16T14:22:52.771622Z"
    }
   },
   "outputs": [],
   "source": [
    "fig = px.histogram(application_train, x=\"LIVE_CITY_NOT_WORK_CITY\",\n",
    "             color=\"TARGET\", barmode='group').update_xaxes(categoryorder = \"total descending\")\n",
    "\n",
    "fig.show()"
   ]
  },
  {
   "cell_type": "markdown",
   "metadata": {},
   "source": [
    "<div style=\"border-radius:10px;\n",
    "            background-color:#ffffff;\n",
    "            border-style: solid;\n",
    "            border-color: #410159;\n",
    "            letter-spacing:0.5px;\">\n",
    "\n",
    "<center><h3 style=\"padding: 5px 0px; color:#410159; font-weight: bold; font-family: Cursive\">\n",
    "REG_REGION_NOT_WORK_REGION</h3></center>\n",
    "</div>"
   ]
  },
  {
   "cell_type": "markdown",
   "metadata": {},
   "source": [
    "## Number of clients in each target class by REG_REGION_NOT_WORK_REGION"
   ]
  },
  {
   "cell_type": "code",
   "execution_count": null,
   "metadata": {
    "_kg_hide-input": true,
    "execution": {
     "iopub.execute_input": "2022-06-16T14:22:54.037354Z",
     "iopub.status.busy": "2022-06-16T14:22:54.036934Z",
     "iopub.status.idle": "2022-06-16T14:22:55.165859Z",
     "shell.execute_reply": "2022-06-16T14:22:55.164967Z",
     "shell.execute_reply.started": "2022-06-16T14:22:54.037312Z"
    }
   },
   "outputs": [],
   "source": [
    "fig = px.histogram(application_train, x=\"REG_REGION_NOT_WORK_REGION\",\n",
    "             color=\"TARGET\", barmode='group').update_xaxes(categoryorder = \"total descending\")\n",
    "\n",
    "fig.show()"
   ]
  },
  {
   "cell_type": "markdown",
   "metadata": {},
   "source": [
    "<div style=\"border-radius:10px;\n",
    "            background-color:#ffffff;\n",
    "            border-style: solid;\n",
    "            border-color: #410159;\n",
    "            letter-spacing:0.5px;\">\n",
    "\n",
    "<center><h3 style=\"padding: 5px 0px; color:#410159; font-weight: bold; font-family: Cursive\">\n",
    "LIVE_REGION_NOT_WORK_REGION</h3></center>\n",
    "</div>"
   ]
  },
  {
   "cell_type": "markdown",
   "metadata": {},
   "source": [
    "## Number of clients in each target class by LIVE_REGION_NOT_WORK_REGION"
   ]
  },
  {
   "cell_type": "code",
   "execution_count": null,
   "metadata": {
    "_kg_hide-input": true,
    "execution": {
     "iopub.execute_input": "2022-06-16T14:22:55.167566Z",
     "iopub.status.busy": "2022-06-16T14:22:55.167237Z",
     "iopub.status.idle": "2022-06-16T14:22:56.425516Z",
     "shell.execute_reply": "2022-06-16T14:22:56.424491Z",
     "shell.execute_reply.started": "2022-06-16T14:22:55.167537Z"
    }
   },
   "outputs": [],
   "source": [
    "fig = px.histogram(application_train, x=\"LIVE_REGION_NOT_WORK_REGION\",\n",
    "             color=\"TARGET\", barmode='group').update_xaxes(categoryorder = \"total descending\")\n",
    "\n",
    "fig.show()"
   ]
  },
  {
   "cell_type": "markdown",
   "metadata": {},
   "source": [
    "<div style=\"border-radius:10px;\n",
    "            background-color:#ffffff;\n",
    "            border-style: solid;\n",
    "            border-color: #410159;\n",
    "            letter-spacing:0.5px;\">\n",
    "\n",
    "<center><h3 style=\"padding: 5px 0px; color:#410159; font-weight: bold; font-family: Cursive\">\n",
    "REG_CITY_NOT_LIVE_CITY</h3></center>\n",
    "</div>"
   ]
  },
  {
   "cell_type": "markdown",
   "metadata": {},
   "source": [
    "## Number of clients in each target class by REG_CITY_NOT_LIVE_CITY"
   ]
  },
  {
   "cell_type": "code",
   "execution_count": null,
   "metadata": {
    "_kg_hide-input": true,
    "execution": {
     "iopub.execute_input": "2022-06-16T14:22:56.427599Z",
     "iopub.status.busy": "2022-06-16T14:22:56.427139Z",
     "iopub.status.idle": "2022-06-16T14:22:57.671493Z",
     "shell.execute_reply": "2022-06-16T14:22:57.670502Z",
     "shell.execute_reply.started": "2022-06-16T14:22:56.427553Z"
    }
   },
   "outputs": [],
   "source": [
    "fig = px.histogram(application_train, x=\"REG_CITY_NOT_LIVE_CITY\",\n",
    "             color=\"TARGET\", barmode='group').update_xaxes(categoryorder = \"total descending\")\n",
    "\n",
    "fig.show()"
   ]
  },
  {
   "cell_type": "markdown",
   "metadata": {},
   "source": [
    "<div style=\"border-radius:10px;\n",
    "            background-color:#ffffff;\n",
    "            border-style: solid;\n",
    "            border-color: #410159;\n",
    "            letter-spacing:0.5px;\">\n",
    "\n",
    "<center><h3 style=\"padding: 5px 0px; color:#410159; font-weight: bold; font-family: Cursive\">\n",
    "REG_CITY_NOT_WORK_CITY</h3></center>\n",
    "</div>"
   ]
  },
  {
   "cell_type": "markdown",
   "metadata": {},
   "source": [
    "## Number of clients in each target class by REG_CITY_NOT_WORK_CITY"
   ]
  },
  {
   "cell_type": "code",
   "execution_count": null,
   "metadata": {
    "_kg_hide-input": true,
    "execution": {
     "iopub.execute_input": "2022-06-16T14:22:57.673079Z",
     "iopub.status.busy": "2022-06-16T14:22:57.672685Z",
     "iopub.status.idle": "2022-06-16T14:22:58.787992Z",
     "shell.execute_reply": "2022-06-16T14:22:58.786866Z",
     "shell.execute_reply.started": "2022-06-16T14:22:57.673043Z"
    }
   },
   "outputs": [],
   "source": [
    "fig = px.histogram(application_train, x=\"REG_CITY_NOT_WORK_CITY\",\n",
    "             color=\"TARGET\", barmode='group').update_xaxes(categoryorder = \"total descending\")\n",
    "fig.show()"
   ]
  },
  {
   "cell_type": "markdown",
   "metadata": {},
   "source": [
    "<div style=\"border-radius:10px;\n",
    "            background-color:#ffffff;\n",
    "            border-style: solid;\n",
    "            border-color: #410159;\n",
    "            letter-spacing:0.5px;\">\n",
    "\n",
    "<center><h3 style=\"padding: 5px 0px; color:#410159; font-weight: bold; font-family: Cursive\">\n",
    "LIVE_CITY_NOT_WORK_CITY</h3></center>\n",
    "</div>"
   ]
  },
  {
   "cell_type": "markdown",
   "metadata": {},
   "source": [
    "## Number of clients in each target class by LIVE_CITY_NOT_WORK_CITY"
   ]
  },
  {
   "cell_type": "code",
   "execution_count": null,
   "metadata": {
    "_kg_hide-input": true,
    "execution": {
     "iopub.execute_input": "2022-06-16T14:22:58.789681Z",
     "iopub.status.busy": "2022-06-16T14:22:58.789253Z",
     "iopub.status.idle": "2022-06-16T14:23:00.046687Z",
     "shell.execute_reply": "2022-06-16T14:23:00.045518Z",
     "shell.execute_reply.started": "2022-06-16T14:22:58.789647Z"
    }
   },
   "outputs": [],
   "source": [
    "fig = px.histogram(application_train, x=\"LIVE_CITY_NOT_WORK_CITY\",\n",
    "             color=\"TARGET\", barmode='group').update_xaxes(categoryorder = \"total descending\")\n",
    "fig.show()"
   ]
  },
  {
   "cell_type": "markdown",
   "metadata": {},
   "source": [
    "<div style=\"border-radius:10px;\n",
    "            background-color:#ffffff;\n",
    "            border-style: solid;\n",
    "            border-color: #410159;\n",
    "            letter-spacing:0.5px;\">\n",
    "\n",
    "<center><h3 style=\"padding: 5px 0px; color:#410159; font-weight: bold; font-family: Cursive\">\n",
    "NAME_EDUCATION_TYPE</h3></center>\n",
    "</div>"
   ]
  },
  {
   "cell_type": "markdown",
   "metadata": {},
   "source": [
    "## Percentage of clients by education type"
   ]
  },
  {
   "cell_type": "code",
   "execution_count": null,
   "metadata": {
    "_kg_hide-input": true,
    "execution": {
     "iopub.execute_input": "2022-06-16T14:23:00.048919Z",
     "iopub.status.busy": "2022-06-16T14:23:00.048157Z",
     "iopub.status.idle": "2022-06-16T14:23:00.123783Z",
     "shell.execute_reply": "2022-06-16T14:23:00.122584Z",
     "shell.execute_reply.started": "2022-06-16T14:23:00.048857Z"
    }
   },
   "outputs": [],
   "source": [
    "pie = go.Figure(data=[go.Pie(labels = application_train['NAME_EDUCATION_TYPE'].value_counts().keys(),\n",
    "                             values = application_train['NAME_EDUCATION_TYPE'].value_counts().values)])\n",
    "iplot(pie)"
   ]
  },
  {
   "cell_type": "markdown",
   "metadata": {},
   "source": [
    "<div style=\"border-radius:10px;\n",
    "            background-color:#ffffff;\n",
    "            border-style: solid;\n",
    "            border-color: #410159;\n",
    "            letter-spacing:0.5px;\">\n",
    "\n",
    "<center><h3 style=\"padding: 5px 0px; color:#410159; font-weight: bold; font-family: Cursive\">\n",
    "CNT_CHILDREN</h3></center>\n",
    "</div>"
   ]
  },
  {
   "cell_type": "markdown",
   "metadata": {},
   "source": [
    "## Number of children of clients in each class of the target"
   ]
  },
  {
   "cell_type": "code",
   "execution_count": null,
   "metadata": {
    "_kg_hide-input": true,
    "execution": {
     "iopub.execute_input": "2022-06-16T14:23:00.126166Z",
     "iopub.status.busy": "2022-06-16T14:23:00.125617Z",
     "iopub.status.idle": "2022-06-16T14:23:01.236506Z",
     "shell.execute_reply": "2022-06-16T14:23:01.235598Z",
     "shell.execute_reply.started": "2022-06-16T14:23:00.126116Z"
    }
   },
   "outputs": [],
   "source": [
    "fig = px.histogram(application_train, x=\"CNT_CHILDREN\", color=\"TARGET\", barmode='group')\n",
    "fig.show()"
   ]
  },
  {
   "cell_type": "markdown",
   "metadata": {},
   "source": [
    "<div style=\"border-radius:10px;\n",
    "            background-color:#ffffff;\n",
    "            border-style: solid;\n",
    "            border-color: #410159;\n",
    "            letter-spacing:0.5px;\">\n",
    "\n",
    "<center><h3 style=\"padding: 5px 0px; color:#410159; font-weight: bold; font-family: Cursive\">\n",
    "CNT_FAM_MEMBERS</h3></center>\n",
    "</div>"
   ]
  },
  {
   "cell_type": "markdown",
   "metadata": {},
   "source": [
    "## Number of client family members by target"
   ]
  },
  {
   "cell_type": "code",
   "execution_count": null,
   "metadata": {
    "_kg_hide-input": true,
    "execution": {
     "iopub.execute_input": "2022-06-16T14:23:01.238057Z",
     "iopub.status.busy": "2022-06-16T14:23:01.237643Z",
     "iopub.status.idle": "2022-06-16T14:23:02.355167Z",
     "shell.execute_reply": "2022-06-16T14:23:02.353587Z",
     "shell.execute_reply.started": "2022-06-16T14:23:01.238025Z"
    }
   },
   "outputs": [],
   "source": [
    "fig = px.histogram(application_train, x=\"CNT_FAM_MEMBERS\", color=\"TARGET\", barmode='group')\n",
    "fig.show()"
   ]
  },
  {
   "cell_type": "markdown",
   "metadata": {},
   "source": [
    "<div style=\"border-radius:10px;\n",
    "            background-color:#ffffff;\n",
    "            border-style: solid;\n",
    "            border-color: #410159;\n",
    "            letter-spacing:0.5px;\">\n",
    "\n",
    "<center><h3 style=\"padding: 5px 0px; color:#410159; font-weight: bold; font-family: Cursive\">\n",
    "AMT_CREDIT</h3></center>\n",
    "</div>"
   ]
  },
  {
   "cell_type": "markdown",
   "metadata": {},
   "source": [
    "## Distribution of amount credit by target"
   ]
  },
  {
   "cell_type": "code",
   "execution_count": null,
   "metadata": {
    "_kg_hide-input": true,
    "execution": {
     "iopub.execute_input": "2022-06-16T14:23:02.356825Z",
     "iopub.status.busy": "2022-06-16T14:23:02.356408Z",
     "iopub.status.idle": "2022-06-16T14:23:05.472564Z",
     "shell.execute_reply": "2022-06-16T14:23:05.471643Z",
     "shell.execute_reply.started": "2022-06-16T14:23:02.356791Z"
    }
   },
   "outputs": [],
   "source": [
    "fig = ff.create_distplot([application_train[application_train['TARGET']==0]['AMT_CREDIT'], \n",
    "                          application_train[application_train['TARGET']==1]['AMT_CREDIT']], \n",
    "                         ['target=> 0', 'target=> 1'],\n",
    "                         bin_size = [2, 2],\n",
    "                         show_rug=False,\n",
    "                         show_hist=False,\n",
    "                         show_curve=True \n",
    "                        )\n",
    "fig.update_layout(xaxis = dict(title='AMT_CREDIT'),\n",
    "                  yaxis =dict(title='Density'),\n",
    "                  barmode='overlay')\n",
    "\n",
    "\n",
    "fig.show()"
   ]
  },
  {
   "cell_type": "markdown",
   "metadata": {},
   "source": [
    "## Distribution of amount credit by target and gender"
   ]
  },
  {
   "cell_type": "code",
   "execution_count": null,
   "metadata": {
    "_kg_hide-input": true,
    "execution": {
     "iopub.execute_input": "2022-06-16T14:23:05.474008Z",
     "iopub.status.busy": "2022-06-16T14:23:05.473664Z",
     "iopub.status.idle": "2022-06-16T14:23:07.501115Z",
     "shell.execute_reply": "2022-06-16T14:23:07.500055Z",
     "shell.execute_reply.started": "2022-06-16T14:23:05.47398Z"
    }
   },
   "outputs": [],
   "source": [
    "fig = px.violin(application_train, x='CODE_GENDER', y='AMT_CREDIT', \n",
    "                color='TARGET', box = True)\n",
    "fig.show()"
   ]
  },
  {
   "cell_type": "markdown",
   "metadata": {},
   "source": [
    "## Distribution of amount credit by target and realty ownership"
   ]
  },
  {
   "cell_type": "code",
   "execution_count": null,
   "metadata": {
    "_kg_hide-input": true,
    "execution": {
     "iopub.execute_input": "2022-06-16T14:23:07.50269Z",
     "iopub.status.busy": "2022-06-16T14:23:07.502358Z",
     "iopub.status.idle": "2022-06-16T14:23:09.309736Z",
     "shell.execute_reply": "2022-06-16T14:23:09.308091Z",
     "shell.execute_reply.started": "2022-06-16T14:23:07.50266Z"
    }
   },
   "outputs": [],
   "source": [
    "fig = px.violin(application_train, x='FLAG_OWN_REALTY', y='AMT_CREDIT', \n",
    "                color='TARGET', box = True)\n",
    "fig.show()"
   ]
  },
  {
   "cell_type": "markdown",
   "metadata": {},
   "source": [
    "<div style=\"border-radius:10px;\n",
    "            background-color:#ffffff;\n",
    "            border-style: solid;\n",
    "            border-color: #410159;\n",
    "            letter-spacing:0.5px;\">\n",
    "\n",
    "<center><h3 style=\"padding: 5px 0px; color:#410159; font-weight: bold; font-family: Cursive\">\n",
    "AMT_ANNUITY</h3></center>\n",
    "</div>\n"
   ]
  },
  {
   "cell_type": "markdown",
   "metadata": {},
   "source": [
    "## Distribution of amount annuity by target"
   ]
  },
  {
   "cell_type": "code",
   "execution_count": null,
   "metadata": {
    "_kg_hide-input": true,
    "execution": {
     "iopub.execute_input": "2022-06-16T14:23:09.311374Z",
     "iopub.status.busy": "2022-06-16T14:23:09.311031Z",
     "iopub.status.idle": "2022-06-16T14:23:12.397272Z",
     "shell.execute_reply": "2022-06-16T14:23:12.396518Z",
     "shell.execute_reply.started": "2022-06-16T14:23:09.311344Z"
    }
   },
   "outputs": [],
   "source": [
    "fig = ff.create_distplot([application_train[application_train['TARGET']==0]['AMT_ANNUITY'].dropna(), \n",
    "                          application_train[application_train['TARGET']==1]['AMT_ANNUITY'].dropna()], \n",
    "                         ['target=> 0', 'target=> 1'],\n",
    "                         bin_size = [2, 2],\n",
    "                         show_rug=False,\n",
    "                         show_hist=False,\n",
    "                         show_curve=True \n",
    "                        )\n",
    "fig.update_layout(xaxis = dict(title='AMT_ANNUITY'),\n",
    "                  yaxis =dict(title='Density'),\n",
    "                  barmode='overlay')\n",
    "\n",
    "\n",
    "fig.show()"
   ]
  },
  {
   "cell_type": "markdown",
   "metadata": {},
   "source": [
    "## Distribution of amount annuity by target and gender"
   ]
  },
  {
   "cell_type": "code",
   "execution_count": null,
   "metadata": {
    "_kg_hide-input": true,
    "execution": {
     "iopub.execute_input": "2022-06-16T14:23:12.398746Z",
     "iopub.status.busy": "2022-06-16T14:23:12.398334Z"
    }
   },
   "outputs": [],
   "source": [
    "fig = px.violin(application_train, x='CODE_GENDER', y='AMT_ANNUITY', \n",
    "                color='TARGET', box = True)\n",
    "fig.show()"
   ]
  },
  {
   "cell_type": "markdown",
   "metadata": {},
   "source": [
    "## Distribution of amount annuity by target and realty ownership"
   ]
  },
  {
   "cell_type": "code",
   "execution_count": null,
   "metadata": {
    "_kg_hide-input": true
   },
   "outputs": [],
   "source": [
    "fig = px.violin(application_train, x='FLAG_OWN_REALTY', y='AMT_ANNUITY', \n",
    "                color='TARGET', box = True)\n",
    "fig.show()"
   ]
  },
  {
   "cell_type": "markdown",
   "metadata": {},
   "source": [
    "<div style=\"border-radius:10px;\n",
    "            background-color:#ffffff;\n",
    "            border-style: solid;\n",
    "            border-color: #410159;\n",
    "            letter-spacing:0.5px;\">\n",
    "\n",
    "<center><h3 style=\"padding: 5px 0px; color:#410159; font-weight: bold; font-family: Cursive\">\n",
    "AMT_GOODS_PRICE</h3></center>\n",
    "</div>\n"
   ]
  },
  {
   "cell_type": "markdown",
   "metadata": {},
   "source": [
    "## Distribution of amount goods price by target"
   ]
  },
  {
   "cell_type": "code",
   "execution_count": null,
   "metadata": {
    "_kg_hide-input": true
   },
   "outputs": [],
   "source": [
    "fig = ff.create_distplot([application_train[application_train['TARGET']==0]['AMT_GOODS_PRICE'].dropna(), \n",
    "                          application_train[application_train['TARGET']==1]['AMT_GOODS_PRICE'].dropna()], \n",
    "                         ['target=> 0', 'target=> 1'],\n",
    "                         bin_size = [2, 2],\n",
    "                         show_rug=False,\n",
    "                         show_hist=False,\n",
    "                         show_curve=True \n",
    "                        )\n",
    "fig.update_layout(xaxis = dict(title='AMT_GOODS_PRICE'),\n",
    "                  yaxis =dict(title='Density'),\n",
    "                  barmode='overlay')\n",
    "\n",
    "\n",
    "fig.show()"
   ]
  },
  {
   "cell_type": "markdown",
   "metadata": {},
   "source": [
    "## Distribution of amount goods price by target and gender"
   ]
  },
  {
   "cell_type": "code",
   "execution_count": null,
   "metadata": {
    "_kg_hide-input": true
   },
   "outputs": [],
   "source": [
    "fig = px.violin(application_train, x='CODE_GENDER', y='AMT_GOODS_PRICE', \n",
    "                color='TARGET', box = True)\n",
    "fig.show()"
   ]
  },
  {
   "cell_type": "markdown",
   "metadata": {},
   "source": [
    "## Distribution of amount goods price by target and realty ownership"
   ]
  },
  {
   "cell_type": "code",
   "execution_count": null,
   "metadata": {
    "_kg_hide-input": true
   },
   "outputs": [],
   "source": [
    "fig = px.violin(application_train, x='FLAG_OWN_REALTY', y='AMT_GOODS_PRICE', \n",
    "                color='TARGET', box = True)\n",
    "fig.show()"
   ]
  },
  {
   "cell_type": "markdown",
   "metadata": {},
   "source": [
    "<div style=\"border-radius:10px;\n",
    "            background-color:#ffffff;\n",
    "            border-style: solid;\n",
    "            border-color: #410159;\n",
    "            letter-spacing:0.5px;\">\n",
    "\n",
    "<center><h3 style=\"padding: 5px 0px; color:#410159; font-weight: bold; font-family: Cursive\">\n",
    "NAME_HOUSING_TYPE</h3></center>\n",
    "</div>\n"
   ]
  },
  {
   "cell_type": "markdown",
   "metadata": {},
   "source": [
    "## Percentage of clients by housing type"
   ]
  },
  {
   "cell_type": "code",
   "execution_count": null,
   "metadata": {
    "_kg_hide-input": true
   },
   "outputs": [],
   "source": [
    "pie = go.Figure(data=[go.Pie(labels = application_train['NAME_HOUSING_TYPE'].value_counts().keys(),\n",
    "                             values = application_train['NAME_HOUSING_TYPE'].value_counts().values)])\n",
    "iplot(pie)"
   ]
  },
  {
   "cell_type": "markdown",
   "metadata": {},
   "source": [
    "<div style=\"border-radius:10px;\n",
    "            background-color:#ffffff;\n",
    "            border-style: solid;\n",
    "            border-color: #410159;\n",
    "            letter-spacing:0.5px;\">\n",
    "\n",
    "<center><h3 style=\"padding: 5px 0px; color:#410159; font-weight: bold; font-family: Cursive\">\n",
    "NAME_TYPE_SUITE</h3></center>\n",
    "</div>\n"
   ]
  },
  {
   "cell_type": "markdown",
   "metadata": {},
   "source": [
    "## Percentage of clients by suite type"
   ]
  },
  {
   "cell_type": "code",
   "execution_count": null,
   "metadata": {
    "_kg_hide-input": true
   },
   "outputs": [],
   "source": [
    "pie = go.Figure(data=[go.Pie(labels = application_train['NAME_TYPE_SUITE'].value_counts().keys(),\n",
    "                             values = application_train['NAME_TYPE_SUITE'].value_counts().values)])\n",
    "iplot(pie)"
   ]
  },
  {
   "cell_type": "markdown",
   "metadata": {},
   "source": [
    "<div style=\"border-radius:10px;\n",
    "            background-color:#ffffff;\n",
    "            border-style: solid;\n",
    "            border-color: #410159;\n",
    "            letter-spacing:0.5px;\">\n",
    "\n",
    "<center><h3 style=\"padding: 5px 0px; color:#410159; font-weight: bold; font-family: Cursive\">\n",
    "NAME_INCOME_TYPE</h3></center>\n",
    "</div>"
   ]
  },
  {
   "cell_type": "markdown",
   "metadata": {},
   "source": [
    "## Percentage of clients by income type"
   ]
  },
  {
   "cell_type": "code",
   "execution_count": null,
   "metadata": {
    "_kg_hide-input": true
   },
   "outputs": [],
   "source": [
    "pie = go.Figure(data=[go.Pie(labels = application_train['NAME_INCOME_TYPE'].value_counts().keys(),\n",
    "                             values = application_train['NAME_INCOME_TYPE'].value_counts().values)])\n",
    "\n",
    "iplot(pie)"
   ]
  },
  {
   "cell_type": "markdown",
   "metadata": {},
   "source": [
    "<div style=\"border-radius:10px;\n",
    "            background-color:#ffffff;\n",
    "            border-style: solid;\n",
    "            border-color: #410159;\n",
    "            letter-spacing:0.5px;\">\n",
    "\n",
    "<center><h3 style=\"padding: 5px 0px; color:#410159; font-weight: bold; font-family: Cursive\">\n",
    "NAME_FAMILY_STATUS</h3></center>\n",
    "</div>"
   ]
  },
  {
   "cell_type": "markdown",
   "metadata": {},
   "source": [
    "## Percentage of clients by family status"
   ]
  },
  {
   "cell_type": "code",
   "execution_count": null,
   "metadata": {
    "_kg_hide-input": true
   },
   "outputs": [],
   "source": [
    "pie = go.Figure(data=[go.Pie(labels = application_train['NAME_FAMILY_STATUS'].value_counts().keys(),\n",
    "                             values = application_train['NAME_FAMILY_STATUS'].value_counts().values)])\n",
    "\n",
    "iplot(pie)"
   ]
  },
  {
   "cell_type": "markdown",
   "metadata": {},
   "source": [
    "<div style=\"border-radius:10px;\n",
    "            background-color:#ffffff;\n",
    "            border-style: solid;\n",
    "            border-color: #410159;\n",
    "            letter-spacing:0.5px;\">\n",
    "\n",
    "<center><h3 style=\"padding: 5px 0px; color:#410159; font-weight: bold; font-family: Cursive\">\n",
    "OCCUPATION_TYPE</h3></center>\n",
    "</div>"
   ]
  },
  {
   "cell_type": "markdown",
   "metadata": {},
   "source": [
    "## Number of clients occupation type"
   ]
  },
  {
   "cell_type": "code",
   "execution_count": null,
   "metadata": {
    "_kg_hide-input": true
   },
   "outputs": [],
   "source": [
    "fig = px.histogram(application_train, x=\"OCCUPATION_TYPE\",\n",
    "                  barmode='group').update_xaxes(categoryorder = \"total descending\")\n",
    "# fig.update_traces(textfont_size=12, textangle=0, textposition=\"outside\", cliponaxis=False)\n",
    "fig.show()"
   ]
  },
  {
   "cell_type": "markdown",
   "metadata": {},
   "source": [
    "## Number of clients in each target class by occupation type"
   ]
  },
  {
   "cell_type": "code",
   "execution_count": null,
   "metadata": {
    "_kg_hide-input": true
   },
   "outputs": [],
   "source": [
    "fig = px.histogram(application_train, x=\"OCCUPATION_TYPE\", \n",
    "                   color=\"TARGET\", barmode='group').update_xaxes(categoryorder = \"total descending\")\n",
    "fig.show()"
   ]
  },
  {
   "cell_type": "markdown",
   "metadata": {},
   "source": [
    "<div style=\"border-radius:10px;\n",
    "            background-color:#ffffff;\n",
    "            border-style: solid;\n",
    "            border-color: #410159;\n",
    "            letter-spacing:0.5px;\">\n",
    "\n",
    "<center><h3 style=\"padding: 5px 0px; color:#410159; font-weight: bold; font-family: Cursive\">\n",
    "ORGANIZATION_TYPE</h3></center>\n",
    "</div>"
   ]
  },
  {
   "cell_type": "markdown",
   "metadata": {},
   "source": [
    "## Number of clients in each target class by organization type"
   ]
  },
  {
   "cell_type": "code",
   "execution_count": null,
   "metadata": {
    "_kg_hide-input": true
   },
   "outputs": [],
   "source": [
    "fig = px.histogram(application_train, x=\"ORGANIZATION_TYPE\", \n",
    "                   color=\"TARGET\", barmode='group').update_xaxes(categoryorder = \"total descending\")\n",
    "fig.show()"
   ]
  },
  {
   "cell_type": "markdown",
   "metadata": {},
   "source": [
    "<div style=\"border-radius:10px;\n",
    "            background-color:#ffffff;\n",
    "            border-style: solid;\n",
    "            border-color: #410159;\n",
    "            letter-spacing:0.5px;\">\n",
    "\n",
    "<center><h3 style=\"padding: 5px 0px; color:#410159; font-weight: bold; font-family: Cursive\">\n",
    "DAYS_BIRTH</h3></center>\n",
    "</div>"
   ]
  },
  {
   "cell_type": "markdown",
   "metadata": {},
   "source": [
    "## Distribution of age of clients"
   ]
  },
  {
   "cell_type": "code",
   "execution_count": null,
   "metadata": {
    "_kg_hide-input": true
   },
   "outputs": [],
   "source": [
    "fig = px.histogram(x= np.abs(application_train['DAYS_BIRTH'])/365,\n",
    "                  barmode='group', nbins=15).update_xaxes(categoryorder = \"total descending\")\n",
    "fig.update_layout(bargap=0.05,\n",
    "                  xaxis = dict(title='Age (years)'))\n",
    "fig.show()"
   ]
  },
  {
   "cell_type": "markdown",
   "metadata": {},
   "source": [
    "## Distribution of age of clients by target"
   ]
  },
  {
   "cell_type": "code",
   "execution_count": null,
   "metadata": {
    "_kg_hide-input": true
   },
   "outputs": [],
   "source": [
    "fig = ff.create_distplot([np.abs(application_train.loc[application_train['TARGET'] == 0, 'DAYS_BIRTH']) / 365, \n",
    "                         np.abs(application_train.loc[application_train['TARGET'] == 1, 'DAYS_BIRTH']) / 365], \n",
    "                         ['target=> 0', 'target=> 1'],\n",
    "                         bin_size = [2, 2],\n",
    "                         show_rug=False,\n",
    "                         show_hist=False,\n",
    "                         show_curve=True)\n",
    "fig.update_layout(xaxis = dict(title='Age (years)'),\n",
    "                  yaxis =dict(title='Density'),\n",
    "                  barmode='overlay')\n",
    "fig.show()"
   ]
  },
  {
   "cell_type": "markdown",
   "metadata": {},
   "source": [
    "<div style=\"border-radius:10px;\n",
    "            background-color:#ffffff;\n",
    "            border-style: solid;\n",
    "            border-color: #410159;\n",
    "            letter-spacing:0.5px;\">\n",
    "\n",
    "<center><h3 style=\"padding: 5px 0px; color:#410159; font-weight: bold; font-family: Cursive\">\n",
    "EXT_SOURCE_1 & EXT_SOURCE_2 & EXT_SOURCE_3</h3></center>\n",
    "</div>"
   ]
  },
  {
   "cell_type": "markdown",
   "metadata": {},
   "source": [
    "## Distribution of EXT_SOURCE_1 by target"
   ]
  },
  {
   "cell_type": "code",
   "execution_count": null,
   "metadata": {
    "_kg_hide-input": true
   },
   "outputs": [],
   "source": [
    "fig = ff.create_distplot([application_train[application_train['TARGET']==0]['EXT_SOURCE_1'].dropna(), \n",
    "                          application_train[application_train['TARGET']==1]['EXT_SOURCE_1'].dropna()], \n",
    "                         ['target=> 0', 'target=> 1'],\n",
    "                         bin_size = [2, 2],\n",
    "                         show_rug=False,\n",
    "                         show_hist=False,\n",
    "                         show_curve=True)\n",
    "fig.update_layout(xaxis = dict(title='EXT_SOURCE_1'),\n",
    "                  yaxis =dict(title='Density'),\n",
    "                  barmode='overlay')\n",
    "fig.show()"
   ]
  },
  {
   "cell_type": "markdown",
   "metadata": {},
   "source": [
    "## Distribution of EXT_SOURCE_2 by target"
   ]
  },
  {
   "cell_type": "code",
   "execution_count": null,
   "metadata": {
    "_kg_hide-input": true
   },
   "outputs": [],
   "source": [
    "fig = ff.create_distplot([application_train[application_train['TARGET']==0]['EXT_SOURCE_2'].dropna(), \n",
    "                          application_train[application_train['TARGET']==1]['EXT_SOURCE_2'].dropna()], \n",
    "                         ['target=> 0', 'target=> 1'],\n",
    "                         bin_size = [2, 2],\n",
    "                         show_rug=False,\n",
    "                         show_hist=False,\n",
    "                         show_curve=True)\n",
    "fig.update_layout(xaxis = dict(title='EXT_SOURCE_2'),\n",
    "                  yaxis =dict(title='Density'),\n",
    "                  barmode='overlay')\n",
    "fig.show()"
   ]
  },
  {
   "cell_type": "markdown",
   "metadata": {},
   "source": [
    "## Distribution of EXT_SOURCE_3 by target"
   ]
  },
  {
   "cell_type": "code",
   "execution_count": null,
   "metadata": {
    "_kg_hide-input": true
   },
   "outputs": [],
   "source": [
    "fig = ff.create_distplot([application_train[application_train['TARGET']==0]['EXT_SOURCE_3'].dropna(), \n",
    "                          application_train[application_train['TARGET']==1]['EXT_SOURCE_3'].dropna()], \n",
    "                         ['target=> 0', 'target=> 1'],\n",
    "                         bin_size = [2, 2],\n",
    "                         show_rug=False,\n",
    "                         show_hist=False,\n",
    "                         show_curve=True)\n",
    "fig.update_layout(xaxis = dict(title='EXT_SOURCE_3'),\n",
    "                  yaxis =dict(title='Density'),\n",
    "                  barmode='overlay')\n",
    "fig.show()"
   ]
  },
  {
   "cell_type": "markdown",
   "metadata": {},
   "source": [
    "# 2. join_1 = application_train.join(previous_application)"
   ]
  },
  {
   "cell_type": "code",
   "execution_count": null,
   "metadata": {},
   "outputs": [],
   "source": [
    "join_1 = application_train.join(previous_application, how='left', on='SK_ID_CURR', \n",
    "                                rsuffix='_previous')\n",
    "join_1.head()"
   ]
  },
  {
   "cell_type": "code",
   "execution_count": null,
   "metadata": {},
   "outputs": [],
   "source": [
    "join_1.shape"
   ]
  },
  {
   "cell_type": "markdown",
   "metadata": {},
   "source": [
    "<div style=\"border-radius:10px;\n",
    "            background-color:#ffffff;\n",
    "            border-style: solid;\n",
    "            border-color: #410159;\n",
    "            letter-spacing:0.5px;\">\n",
    "\n",
    "<center><h3 style=\"padding: 5px 0px; color:#410159; font-weight: bold; font-family: Cursive\">\n",
    "NAME_CONTRACT_TYPE</h3></center>\n",
    "</div>\n"
   ]
  },
  {
   "cell_type": "markdown",
   "metadata": {},
   "source": [
    "## Percentage of clients by contract type \n",
    "### (from previous_application)"
   ]
  },
  {
   "cell_type": "code",
   "execution_count": null,
   "metadata": {
    "_kg_hide-input": true
   },
   "outputs": [],
   "source": [
    "pie = go.Figure(data=[go.Pie(labels = join_1['NAME_CONTRACT_TYPE_previous'].value_counts().keys(),\n",
    "                             values = join_1['NAME_CONTRACT_TYPE_previous'].value_counts().values)])\n",
    "\n",
    "iplot(pie)"
   ]
  },
  {
   "cell_type": "markdown",
   "metadata": {},
   "source": [
    "<div style=\"border-radius:10px;\n",
    "            background-color:#ffffff;\n",
    "            border-style: solid;\n",
    "            border-color: #410159;\n",
    "            letter-spacing:0.5px;\">\n",
    "\n",
    "<center><h3 style=\"padding: 5px 0px; color:#410159; font-weight: bold; font-family: Cursive\">\n",
    "NAME_CONTRACT_STATUS</h3></center>\n",
    "</div>\n"
   ]
  },
  {
   "cell_type": "markdown",
   "metadata": {},
   "source": [
    "## Percentage of clients by contract status \n",
    "### (from previous_application)"
   ]
  },
  {
   "cell_type": "code",
   "execution_count": null,
   "metadata": {
    "_kg_hide-input": true
   },
   "outputs": [],
   "source": [
    "pie = go.Figure(data=[go.Pie(labels = join_1['NAME_CONTRACT_STATUS'].value_counts().keys(),\n",
    "                             values = join_1['NAME_CONTRACT_STATUS'].value_counts().values)])\n",
    "\n",
    "iplot(pie)"
   ]
  },
  {
   "cell_type": "markdown",
   "metadata": {},
   "source": [
    "## Number of clients in each target class by contract status\n",
    "### (from previous_application)"
   ]
  },
  {
   "cell_type": "code",
   "execution_count": null,
   "metadata": {
    "_kg_hide-input": true
   },
   "outputs": [],
   "source": [
    "fig = px.histogram(join_1, x=\"NAME_CONTRACT_STATUS\",\n",
    "             color=\"TARGET\", barmode='group').update_xaxes(categoryorder = \"total descending\")\n",
    "fig.show()"
   ]
  },
  {
   "cell_type": "markdown",
   "metadata": {},
   "source": [
    "## Number of clients in each target class by realty ownership and contract status\n",
    "### (from previous_application)"
   ]
  },
  {
   "cell_type": "code",
   "execution_count": null,
   "metadata": {
    "_kg_hide-input": true
   },
   "outputs": [],
   "source": [
    "fig = px.histogram(join_1, x=\"NAME_CONTRACT_STATUS\",\n",
    "                   color=\"FLAG_OWN_REALTY\", barmode='group', \n",
    "                   facet_col='TARGET').update_xaxes(categoryorder = \"total descending\")\n",
    "fig.show()"
   ]
  },
  {
   "cell_type": "markdown",
   "metadata": {},
   "source": [
    "<div style=\"border-radius:10px;\n",
    "            background-color:#ffffff;\n",
    "            border-style: solid;\n",
    "            border-color: #410159;\n",
    "            letter-spacing:0.5px;\">\n",
    "\n",
    "<center><h3 style=\"padding: 5px 0px; color:#410159; font-weight: bold; font-family: Cursive\">\n",
    "NAME_PAYMENT_TYPE</h3></center>\n",
    "</div>\n"
   ]
  },
  {
   "cell_type": "markdown",
   "metadata": {},
   "source": [
    "## Percentage of clients by payment type\n",
    "### (from previous_application)"
   ]
  },
  {
   "cell_type": "code",
   "execution_count": null,
   "metadata": {
    "_kg_hide-input": true
   },
   "outputs": [],
   "source": [
    "pie = go.Figure(data=[go.Pie(labels = join_1['NAME_PAYMENT_TYPE'].value_counts().keys(),\n",
    "                             values = join_1['NAME_PAYMENT_TYPE'].value_counts().values)])\n",
    "\n",
    "iplot(pie)"
   ]
  },
  {
   "cell_type": "markdown",
   "metadata": {},
   "source": [
    "## Number of clients in each target class by payment type\n",
    "### (from previous_application)"
   ]
  },
  {
   "cell_type": "code",
   "execution_count": null,
   "metadata": {
    "_kg_hide-input": true
   },
   "outputs": [],
   "source": [
    "fig = px.histogram(join_1, x=\"NAME_PAYMENT_TYPE\",\n",
    "             color=\"TARGET\", barmode='group').update_xaxes(categoryorder = \"total descending\")\n",
    "fig.show()"
   ]
  },
  {
   "cell_type": "markdown",
   "metadata": {},
   "source": [
    "<div style=\"border-radius:10px;\n",
    "            background-color:#ffffff;\n",
    "            border-style: solid;\n",
    "            border-color: #410159;\n",
    "            letter-spacing:0.5px;\">\n",
    "\n",
    "<center><h3 style=\"padding: 5px 0px; color:#410159; font-weight: bold; font-family: Cursive\">\n",
    "CODE_REJECT_REASON</h3></center>\n",
    "</div>\n"
   ]
  },
  {
   "cell_type": "markdown",
   "metadata": {},
   "source": [
    "## Percentage of clients by reject reason\n",
    "### (from previous_application)"
   ]
  },
  {
   "cell_type": "code",
   "execution_count": null,
   "metadata": {
    "_kg_hide-input": true
   },
   "outputs": [],
   "source": [
    "pie = go.Figure(data=[go.Pie(labels = join_1['CODE_REJECT_REASON'].value_counts().keys(),\n",
    "                             values = join_1['CODE_REJECT_REASON'].value_counts().values)])\n",
    "\n",
    "iplot(pie)"
   ]
  },
  {
   "cell_type": "markdown",
   "metadata": {},
   "source": [
    "## Number of clients in each target class by reject reason\n",
    "### (from previous_application)"
   ]
  },
  {
   "cell_type": "code",
   "execution_count": null,
   "metadata": {
    "_kg_hide-input": true
   },
   "outputs": [],
   "source": [
    "fig = px.histogram(join_1, x=\"CODE_REJECT_REASON\",\n",
    "             color=\"TARGET\", barmode='group').update_xaxes(categoryorder = \"total descending\")\n",
    "fig.show()"
   ]
  },
  {
   "cell_type": "markdown",
   "metadata": {},
   "source": [
    "## Number of clients by reject reason and realty ownership\n",
    "### (from previous_application)"
   ]
  },
  {
   "cell_type": "code",
   "execution_count": null,
   "metadata": {
    "_kg_hide-input": true
   },
   "outputs": [],
   "source": [
    "fig = px.histogram(join_1, x=\"CODE_REJECT_REASON\",\n",
    "             color=\"FLAG_OWN_REALTY\", barmode='group').update_xaxes(categoryorder = \"total descending\")\n",
    "fig.show()"
   ]
  },
  {
   "cell_type": "markdown",
   "metadata": {},
   "source": [
    "## Number of clients in each target class by reject reason and realty ownership\n",
    "### (from previous_application)"
   ]
  },
  {
   "cell_type": "code",
   "execution_count": null,
   "metadata": {
    "_kg_hide-input": true
   },
   "outputs": [],
   "source": [
    "fig = px.histogram(join_1, x=\"CODE_REJECT_REASON\",\n",
    "                   color=\"FLAG_OWN_REALTY\", barmode='group', \n",
    "                   facet_col='TARGET').update_xaxes(categoryorder = \"total descending\")\n",
    "fig.show()"
   ]
  },
  {
   "cell_type": "markdown",
   "metadata": {},
   "source": [
    "<div style=\"border-radius:10px;\n",
    "            background-color:#ffffff;\n",
    "            border-style: solid;\n",
    "            border-color: #410159;\n",
    "            letter-spacing:0.5px;\">\n",
    "\n",
    "<center><h3 style=\"padding: 5px 0px; color:#410159; font-weight: bold; font-family: Cursive\">\n",
    "NAME_TYPE_SUITE</h3></center>\n",
    "</div>\n"
   ]
  },
  {
   "cell_type": "markdown",
   "metadata": {},
   "source": [
    "## Percentage of clients by suite type \n",
    "### (from previous_application)"
   ]
  },
  {
   "cell_type": "code",
   "execution_count": null,
   "metadata": {
    "_kg_hide-input": true
   },
   "outputs": [],
   "source": [
    "pie = go.Figure(data=[go.Pie(labels = join_1['NAME_TYPE_SUITE_previous'].value_counts().keys(),\n",
    "                             values = join_1['NAME_TYPE_SUITE_previous'].value_counts().values)])\n",
    "\n",
    "iplot(pie)"
   ]
  },
  {
   "cell_type": "markdown",
   "metadata": {},
   "source": [
    "## Number of clients in each target class by suite type \n",
    "### (from previous_application)"
   ]
  },
  {
   "cell_type": "code",
   "execution_count": null,
   "metadata": {
    "_kg_hide-input": true
   },
   "outputs": [],
   "source": [
    "fig = px.histogram(join_1, x=\"NAME_TYPE_SUITE_previous\",\n",
    "             color=\"TARGET\", barmode='group').update_xaxes(categoryorder = \"total descending\")\n",
    "fig.show()"
   ]
  },
  {
   "cell_type": "markdown",
   "metadata": {},
   "source": [
    "<div style=\"border-radius:10px;\n",
    "            background-color:#ffffff;\n",
    "            border-style: solid;\n",
    "            border-color: #410159;\n",
    "            letter-spacing:0.5px;\">\n",
    "\n",
    "<center><h3 style=\"padding: 5px 0px; color:#410159; font-weight: bold; font-family: Cursive\">\n",
    "NAME_PORTFOLIO</h3></center>\n",
    "</div>"
   ]
  },
  {
   "cell_type": "markdown",
   "metadata": {},
   "source": [
    "## Percentage of clients by name of portfolio\n",
    "### (from previous_application)"
   ]
  },
  {
   "cell_type": "code",
   "execution_count": null,
   "metadata": {
    "_kg_hide-input": true
   },
   "outputs": [],
   "source": [
    "pie = go.Figure(data=[go.Pie(labels = join_1['NAME_PORTFOLIO'].value_counts().keys(),\n",
    "                             values = join_1['NAME_PORTFOLIO'].value_counts().values)])\n",
    "\n",
    "iplot(pie)"
   ]
  },
  {
   "cell_type": "markdown",
   "metadata": {},
   "source": [
    "## Number of clients in each target class by name of portfolio\n",
    "### (from previous_application)"
   ]
  },
  {
   "cell_type": "code",
   "execution_count": null,
   "metadata": {
    "_kg_hide-input": true
   },
   "outputs": [],
   "source": [
    "fig = px.histogram(join_1, x=\"NAME_PORTFOLIO\",\n",
    "             color=\"TARGET\", barmode='group').update_xaxes(categoryorder = \"total descending\")\n",
    "fig.show()"
   ]
  },
  {
   "cell_type": "markdown",
   "metadata": {},
   "source": [
    "<div style=\"border-radius:10px;\n",
    "            background-color:#ffffff;\n",
    "            border-style: solid;\n",
    "            border-color: #410159;\n",
    "            letter-spacing:0.5px;\">\n",
    "\n",
    "<center><h3 style=\"padding: 5px 0px; color:#410159; font-weight: bold; font-family: Cursive\">\n",
    "CHANNEL_TYPE</h3></center>\n",
    "</div>"
   ]
  },
  {
   "cell_type": "markdown",
   "metadata": {},
   "source": [
    "## Percentage of clients by channel type\n",
    "### (from previous_application)"
   ]
  },
  {
   "cell_type": "code",
   "execution_count": null,
   "metadata": {
    "_kg_hide-input": true
   },
   "outputs": [],
   "source": [
    "pie = go.Figure(data=[go.Pie(labels = join_1['CHANNEL_TYPE'].value_counts().keys(),\n",
    "                             values = join_1['CHANNEL_TYPE'].value_counts().values)])\n",
    "\n",
    "iplot(pie)"
   ]
  },
  {
   "cell_type": "markdown",
   "metadata": {},
   "source": [
    "## Number of clients by channel type\n",
    "### (from previous_application)"
   ]
  },
  {
   "cell_type": "code",
   "execution_count": null,
   "metadata": {
    "_kg_hide-input": true
   },
   "outputs": [],
   "source": [
    "fig = px.histogram(join_1, x=\"CHANNEL_TYPE\",\n",
    "                   barmode='group').update_xaxes(categoryorder = \"total descending\")\n",
    "# fig.update_traces(textfont_size=12, textangle=0, textposition=\"outside\", cliponaxis=False) #  \n",
    "fig.show()"
   ]
  },
  {
   "cell_type": "markdown",
   "metadata": {},
   "source": [
    "<div style=\"border-radius:10px;\n",
    "            background-color:#ffffff;\n",
    "            border-style: solid;\n",
    "            border-color: #410159;\n",
    "            letter-spacing:0.5px;\">\n",
    "\n",
    "<center><h3 style=\"padding: 5px 0px; color:#410159; font-weight: bold; font-family: Cursive\">\n",
    "AMT_APPLICATION</h3></center>\n",
    "</div>\n"
   ]
  },
  {
   "cell_type": "markdown",
   "metadata": {},
   "source": [
    "## Distribution of amount application by target\n",
    "### (from previous_application)"
   ]
  },
  {
   "cell_type": "code",
   "execution_count": null,
   "metadata": {
    "_kg_hide-input": true
   },
   "outputs": [],
   "source": [
    "fig = ff.create_distplot([join_1[join_1['TARGET']==0]['AMT_APPLICATION'], \n",
    "                          join_1[join_1['TARGET']==1]['AMT_APPLICATION']], \n",
    "                         ['target=> 0', 'target=> 1'],\n",
    "                         show_rug=False, \n",
    "                         show_hist=False,\n",
    "                         show_curve=True)\n",
    "fig.update_layout(xaxis = dict(title='AMT_APPLICATION'),\n",
    "                  yaxis =dict(title='Density'),\n",
    "                  barmode='overlay')\n",
    "fig.show()"
   ]
  },
  {
   "cell_type": "markdown",
   "metadata": {},
   "source": [
    "<div style=\"border-radius:10px;\n",
    "            background-color:#ffffff;\n",
    "            border-style: solid;\n",
    "            border-color: #410159;\n",
    "            letter-spacing:0.5px;\">\n",
    "\n",
    "<center><h3 style=\"padding: 5px 0px; color:#410159; font-weight: bold; font-family: Cursive\">\n",
    "CNT_PAYMENT</h3></center>\n",
    "</div>\n"
   ]
  },
  {
   "cell_type": "markdown",
   "metadata": {},
   "source": [
    "## Count of payment by target\n",
    "### (from previous_application)"
   ]
  },
  {
   "cell_type": "code",
   "execution_count": null,
   "metadata": {
    "_kg_hide-input": true
   },
   "outputs": [],
   "source": [
    "fig = px.histogram(join_1, x=\"CNT_PAYMENT\", color=\"TARGET\", barmode='group')\n",
    "fig.show()"
   ]
  },
  {
   "cell_type": "markdown",
   "metadata": {},
   "source": [
    "<div style=\"border-radius:10px;\n",
    "            background-color:#ffffff;\n",
    "            border-style: solid;\n",
    "            border-color: #410159;\n",
    "            letter-spacing:0.5px;\">\n",
    "\n",
    "<center><h3 style=\"padding: 5px 0px; color:#410159; font-weight: bold; font-family: Cursive\">\n",
    "AMT_CREDIT</h3></center>\n",
    "</div>\n"
   ]
  },
  {
   "cell_type": "markdown",
   "metadata": {},
   "source": [
    "## Distribution of amount credit by target\n",
    "### (from previous_application)"
   ]
  },
  {
   "cell_type": "code",
   "execution_count": null,
   "metadata": {
    "_kg_hide-input": true
   },
   "outputs": [],
   "source": [
    "fig = ff.create_distplot([join_1[join_1['TARGET']==0]['AMT_CREDIT_previous'].dropna(), \n",
    "                          join_1[join_1['TARGET']==1]['AMT_CREDIT_previous'].dropna()], \n",
    "                         ['target=> 0', 'target=> 1'],\n",
    "                         show_rug=False,\n",
    "                         show_hist=False,\n",
    "                         show_curve=True )\n",
    "\n",
    "fig.update_layout(xaxis = dict(title='AMT_CREDIT_previous'),\n",
    "                  yaxis =dict(title='Density'),\n",
    "                  barmode='overlay')\n",
    "fig.show()"
   ]
  },
  {
   "cell_type": "markdown",
   "metadata": {},
   "source": [
    "## Distribution of amount credit by target and realty ownership\n",
    "### (from previous_application)"
   ]
  },
  {
   "cell_type": "code",
   "execution_count": null,
   "metadata": {
    "_kg_hide-input": true
   },
   "outputs": [],
   "source": [
    "fig = px.violin(join_1, x='FLAG_OWN_REALTY', y='AMT_CREDIT_previous', \n",
    "                color='TARGET', box = True)\n",
    "fig.show()"
   ]
  },
  {
   "cell_type": "markdown",
   "metadata": {},
   "source": [
    "# 3. join_2 = join_1.join(POS_CASH_balance)"
   ]
  },
  {
   "cell_type": "code",
   "execution_count": null,
   "metadata": {},
   "outputs": [],
   "source": [
    "join_2 = join_1.join(POS_CASH_balance, how='left', on='SK_ID_CURR', \n",
    "                                rsuffix='_POS_CASH')\n",
    "join_2.head()"
   ]
  },
  {
   "cell_type": "code",
   "execution_count": null,
   "metadata": {},
   "outputs": [],
   "source": [
    "join_2.shape"
   ]
  },
  {
   "cell_type": "markdown",
   "metadata": {},
   "source": [
    "<div style=\"border-radius:10px;\n",
    "            background-color:#ffffff;\n",
    "            border-style: solid;\n",
    "            border-color: #410159;\n",
    "            letter-spacing:0.5px;\">\n",
    "\n",
    "<center><h3 style=\"padding: 5px 0px; color:#410159; font-weight: bold; font-family: Cursive\">\n",
    "CNT_INSTALMENT</h3></center>\n",
    "</div>\n"
   ]
  },
  {
   "cell_type": "markdown",
   "metadata": {},
   "source": [
    "## Count of instalment by target\n",
    "### (from POS_CASH_balance)"
   ]
  },
  {
   "cell_type": "code",
   "execution_count": null,
   "metadata": {
    "_kg_hide-input": true
   },
   "outputs": [],
   "source": [
    "fig = px.histogram(join_2, x=\"CNT_INSTALMENT\", color=\"TARGET\", barmode='group')\n",
    "fig.show()"
   ]
  },
  {
   "cell_type": "markdown",
   "metadata": {},
   "source": [
    "<div style=\"border-radius:10px;\n",
    "            background-color:#ffffff;\n",
    "            border-style: solid;\n",
    "            border-color: #410159;\n",
    "            letter-spacing:0.5px;\">\n",
    "\n",
    "<center><h3 style=\"padding: 5px 0px; color:#410159; font-weight: bold; font-family: Cursive\">\n",
    "CNT_INSTALMENT_FUTURE</h3></center>\n",
    "</div>\n"
   ]
  },
  {
   "cell_type": "markdown",
   "metadata": {},
   "source": [
    "## Count of instalment future by target\n",
    "### (from POS_CASH_balance)"
   ]
  },
  {
   "cell_type": "code",
   "execution_count": null,
   "metadata": {
    "_kg_hide-input": true
   },
   "outputs": [],
   "source": [
    "fig = px.histogram(join_2, x=\"CNT_INSTALMENT_FUTURE\", color=\"TARGET\", barmode='group')\n",
    "fig.show()"
   ]
  },
  {
   "cell_type": "markdown",
   "metadata": {},
   "source": [
    "<div style=\"border-radius:10px;\n",
    "            background-color:#ffffff;\n",
    "            border-style: solid;\n",
    "            border-color: #410159;\n",
    "            letter-spacing:0.5px;\">\n",
    "\n",
    "<center><h3 style=\"padding: 5px 0px; color:#410159; font-weight: bold; font-family: Cursive\">\n",
    "NAME_CONTRACT_STATUS_POS_CASH</h3></center>\n",
    "</div>\n"
   ]
  },
  {
   "cell_type": "markdown",
   "metadata": {},
   "source": [
    "## Percentage of clients by contract status POS_CASH\n",
    "### (from POS_CASH_balance)"
   ]
  },
  {
   "cell_type": "code",
   "execution_count": null,
   "metadata": {
    "_kg_hide-input": true
   },
   "outputs": [],
   "source": [
    "pie = go.Figure(data=[go.Pie(labels = join_2['NAME_CONTRACT_STATUS_POS_CASH'].value_counts().keys(),\n",
    "                             values = join_2['NAME_CONTRACT_STATUS_POS_CASH'].value_counts().values)])\n",
    "\n",
    "iplot(pie)"
   ]
  },
  {
   "cell_type": "markdown",
   "metadata": {},
   "source": [
    "## Number of clients in each target class by NAME_CONTRACT_STATUS_POS_CASH\n",
    "### (from POS_CASH_balance)"
   ]
  },
  {
   "cell_type": "code",
   "execution_count": null,
   "metadata": {
    "_kg_hide-input": true
   },
   "outputs": [],
   "source": [
    "fig = px.histogram(join_2, x=\"NAME_CONTRACT_STATUS_POS_CASH\",\n",
    "             color=\"TARGET\", barmode='group').update_xaxes(categoryorder = \"total descending\")\n",
    "fig.show()"
   ]
  },
  {
   "cell_type": "markdown",
   "metadata": {},
   "source": [
    "# 4. join_3 = join_2.join(credit_card_balance)"
   ]
  },
  {
   "cell_type": "code",
   "execution_count": null,
   "metadata": {},
   "outputs": [],
   "source": [
    "join_3 = join_2.join(credit_card_balance, how='left', on='SK_ID_CURR', \n",
    "                                rsuffix='_credit')\n",
    "join_3.head()"
   ]
  },
  {
   "cell_type": "code",
   "execution_count": null,
   "metadata": {},
   "outputs": [],
   "source": [
    "join_3.shape"
   ]
  },
  {
   "cell_type": "markdown",
   "metadata": {},
   "source": [
    "<div style=\"border-radius:10px;\n",
    "            background-color:#ffffff;\n",
    "            border-style: solid;\n",
    "            border-color: #410159;\n",
    "            letter-spacing:0.5px;\">\n",
    "\n",
    "<center><h3 style=\"padding: 5px 0px; color:#410159; font-weight: bold; font-family: Cursive\">\n",
    "AMT_BALANCE</h3></center>\n",
    "</div>\n"
   ]
  },
  {
   "cell_type": "markdown",
   "metadata": {},
   "source": [
    "## Distribution of amount balance by target\n",
    "### (from credit_card_balance)"
   ]
  },
  {
   "cell_type": "code",
   "execution_count": null,
   "metadata": {
    "_kg_hide-input": true
   },
   "outputs": [],
   "source": [
    "fig = ff.create_distplot([join_3[join_3['TARGET']==0]['AMT_BALANCE'].dropna(), \n",
    "                          join_3[join_3['TARGET']==1]['AMT_BALANCE'].dropna()], \n",
    "                         ['target=> 0', 'target=> 1'],\n",
    "                         show_rug=False,\n",
    "                         show_hist=False,\n",
    "                         show_curve=True )\n",
    "\n",
    "fig.update_layout(xaxis = dict(title='AMT_BALANCE'),\n",
    "                  yaxis =dict(title='Density'),\n",
    "                  barmode='overlay')\n",
    "fig.show()"
   ]
  },
  {
   "cell_type": "markdown",
   "metadata": {},
   "source": [
    "<div style=\"border-radius:10px;\n",
    "            background-color:#ffffff;\n",
    "            border-style: solid;\n",
    "            border-color: #410159;\n",
    "            letter-spacing:0.5px;\">\n",
    "\n",
    "<center><h3 style=\"padding: 5px 0px; color:#410159; font-weight: bold; font-family: Cursive\">\n",
    "AMT_CREDIT_LIMIT_ACTUAL</h3></center>\n",
    "</div>\n"
   ]
  },
  {
   "cell_type": "markdown",
   "metadata": {},
   "source": [
    "## Distribution of amount credit limit actual by target\n",
    "### (from credit_card_balance)"
   ]
  },
  {
   "cell_type": "code",
   "execution_count": null,
   "metadata": {
    "_kg_hide-input": true
   },
   "outputs": [],
   "source": [
    "fig = ff.create_distplot([join_3[join_3['TARGET']==0]['AMT_CREDIT_LIMIT_ACTUAL'].dropna(), \n",
    "                          join_3[join_3['TARGET']==1]['AMT_CREDIT_LIMIT_ACTUAL'].dropna()], \n",
    "                         ['target=> 0', 'target=> 1'],\n",
    "                         show_rug=False,\n",
    "                         show_hist=False,\n",
    "                         show_curve=True )\n",
    "\n",
    "fig.update_layout(xaxis = dict(title='AMT_CREDIT_LIMIT_ACTUAL'),\n",
    "                  yaxis =dict(title='Density'),\n",
    "                  barmode='overlay')\n",
    "\n",
    "fig.show()"
   ]
  },
  {
   "cell_type": "markdown",
   "metadata": {},
   "source": [
    "<div style=\"border-radius:10px;\n",
    "            background-color:#ffffff;\n",
    "            border-style: solid;\n",
    "            border-color: #410159;\n",
    "            letter-spacing:0.5px;\">\n",
    "\n",
    "<center><h3 style=\"padding: 5px 0px; color:#410159; font-weight: bold; font-family: Cursive\">\n",
    "AMT_RECEIVABLE_PRINCIPAL</h3></center>\n",
    "</div>"
   ]
  },
  {
   "cell_type": "markdown",
   "metadata": {},
   "source": [
    "## Distribution of amount receivable principal by target\n",
    "### (from credit_card_balance)"
   ]
  },
  {
   "cell_type": "code",
   "execution_count": null,
   "metadata": {
    "_kg_hide-input": true
   },
   "outputs": [],
   "source": [
    "fig = ff.create_distplot([join_3[join_3['TARGET']==0]['AMT_RECEIVABLE_PRINCIPAL'].dropna(), \n",
    "                          join_3[join_3['TARGET']==1]['AMT_RECEIVABLE_PRINCIPAL'].dropna()], \n",
    "                         ['target=> 0', 'target=> 1'],\n",
    "                         show_rug=False,\n",
    "                         show_hist=False,\n",
    "                         show_curve=True )\n",
    "\n",
    "fig.update_layout(xaxis = dict(title='AMT_RECEIVABLE_PRINCIPAL'),\n",
    "                  yaxis =dict(title='Density'),\n",
    "                  barmode='overlay')\n",
    "\n",
    "fig.show()"
   ]
  },
  {
   "cell_type": "markdown",
   "metadata": {},
   "source": [
    "<div style=\"border-radius:10px;\n",
    "            background-color:#ffffff;\n",
    "            border-style: solid;\n",
    "            border-color: #410159;\n",
    "            letter-spacing:0.5px;\">\n",
    "\n",
    "<center><h3 style=\"padding: 5px 0px; color:#410159; font-weight: bold; font-family: Cursive\">\n",
    "AMT_RECIVABLE</h3></center>\n",
    "</div>"
   ]
  },
  {
   "cell_type": "markdown",
   "metadata": {},
   "source": [
    "## Distribution of amount receivable by target\n",
    "### (from credit_card_balance)"
   ]
  },
  {
   "cell_type": "code",
   "execution_count": null,
   "metadata": {
    "_kg_hide-input": true
   },
   "outputs": [],
   "source": [
    "fig = ff.create_distplot([join_3[join_3['TARGET']==0]['AMT_RECIVABLE'].dropna(), \n",
    "                          join_3[join_3['TARGET']==1]['AMT_RECIVABLE'].dropna()], \n",
    "                         ['target=> 0', 'target=> 1'],\n",
    "                         show_rug=False,\n",
    "                         show_hist=False,\n",
    "                         show_curve=True )\n",
    "\n",
    "fig.update_layout(xaxis = dict(title='AMT_RECIVABLE'),\n",
    "                  yaxis =dict(title='Density'),\n",
    "                  barmode='overlay')\n",
    "\n",
    "fig.show()"
   ]
  },
  {
   "cell_type": "markdown",
   "metadata": {},
   "source": [
    "<div style=\"border-radius:10px;\n",
    "            background-color:#ffffff;\n",
    "            border-style: solid;\n",
    "            border-color: #410159;\n",
    "            letter-spacing:0.5px;\">\n",
    "\n",
    "<center><h3 style=\"padding: 5px 0px; color:#410159; font-weight: bold; font-family: Cursive\">\n",
    "AMT_TOTAL_RECEIVABLE</h3></center>\n",
    "</div>"
   ]
  },
  {
   "cell_type": "markdown",
   "metadata": {},
   "source": [
    "## Distribution of amount total receivable by target\n",
    "### (from credit_card_balance)"
   ]
  },
  {
   "cell_type": "code",
   "execution_count": null,
   "metadata": {
    "_kg_hide-input": true
   },
   "outputs": [],
   "source": [
    "fig = ff.create_distplot([join_3[join_3['TARGET']==0]['AMT_TOTAL_RECEIVABLE'].dropna(), \n",
    "                          join_3[join_3['TARGET']==1]['AMT_TOTAL_RECEIVABLE'].dropna()], \n",
    "                         ['target=> 0', 'target=> 1'],\n",
    "                         show_rug=False,\n",
    "                         show_hist=False,\n",
    "                         show_curve=True )\n",
    "\n",
    "fig.update_layout(xaxis = dict(title='AMT_TOTAL_RECEIVABLE'),\n",
    "                  yaxis =dict(title='Density'),\n",
    "                  barmode='overlay')\n",
    "\n",
    "fig.show()"
   ]
  },
  {
   "cell_type": "markdown",
   "metadata": {},
   "source": [
    "<div style=\"border-radius:10px;\n",
    "            background-color:#ffffff;\n",
    "            border-style: solid;\n",
    "            border-color: #410159;\n",
    "            letter-spacing:0.5px;\">\n",
    "\n",
    "<center><h3 style=\"padding: 5px 0px; color:#410159; font-weight: bold; font-family: Cursive\">\n",
    "NAME_CONTRACT_STATUS</h3></center>\n",
    "</div>"
   ]
  },
  {
   "cell_type": "markdown",
   "metadata": {},
   "source": [
    "## Percentage of clients by contract status \n",
    "### (from credit_card_balance)"
   ]
  },
  {
   "cell_type": "code",
   "execution_count": null,
   "metadata": {
    "_kg_hide-input": true
   },
   "outputs": [],
   "source": [
    "pie = go.Figure(data=[go.Pie(labels = join_3['NAME_CONTRACT_STATUS_credit'].value_counts().keys(),\n",
    "                             values = join_3['NAME_CONTRACT_STATUS_credit'].value_counts().values)])\n",
    "\n",
    "iplot(pie)"
   ]
  },
  {
   "cell_type": "markdown",
   "metadata": {},
   "source": [
    "# 5. join_4 = join_3.join(bureau)"
   ]
  },
  {
   "cell_type": "code",
   "execution_count": null,
   "metadata": {},
   "outputs": [],
   "source": [
    "join_4 = join_3.join(bureau, how='left', on='SK_ID_CURR', \n",
    "                                rsuffix='_bureau')\n",
    "join_4.head()"
   ]
  },
  {
   "cell_type": "code",
   "execution_count": null,
   "metadata": {},
   "outputs": [],
   "source": [
    "join_4.shape"
   ]
  },
  {
   "cell_type": "markdown",
   "metadata": {},
   "source": [
    "<div style=\"border-radius:10px;\n",
    "            background-color:#ffffff;\n",
    "            border-style: solid;\n",
    "            border-color: #410159;\n",
    "            letter-spacing:0.5px;\">\n",
    "\n",
    "<center><h3 style=\"padding: 5px 0px; color:#410159; font-weight: bold; font-family: Cursive\">\n",
    "CREDIT_ACTIVE</h3></center>\n",
    "</div>"
   ]
  },
  {
   "cell_type": "markdown",
   "metadata": {},
   "source": [
    "## Percentage of clients by credit active\n",
    "### (from bureau)"
   ]
  },
  {
   "cell_type": "code",
   "execution_count": null,
   "metadata": {
    "_kg_hide-input": true
   },
   "outputs": [],
   "source": [
    "pie = go.Figure(data=[go.Pie(labels = join_4['CREDIT_ACTIVE'].value_counts().keys(),\n",
    "                             values = join_4['CREDIT_ACTIVE'].value_counts().values)])\n",
    "iplot(pie)"
   ]
  },
  {
   "cell_type": "markdown",
   "metadata": {},
   "source": [
    "## Number of clients in each target class by credit active\n",
    "### (from bureau)"
   ]
  },
  {
   "cell_type": "code",
   "execution_count": null,
   "metadata": {
    "_kg_hide-input": true
   },
   "outputs": [],
   "source": [
    "fig = px.histogram(join_4, x=\"TARGET\",color='CREDIT_ACTIVE',\n",
    "                  barmode='group').update_xaxes(categoryorder = \"total descending\")\n",
    "# fig.update_traces(textfont_size=12, textangle=0, textposition=\"outside\", cliponaxis=False)\n",
    "fig.show()"
   ]
  },
  {
   "cell_type": "markdown",
   "metadata": {},
   "source": [
    "<div style=\"border-radius:10px;\n",
    "            background-color:#ffffff;\n",
    "            border-style: solid;\n",
    "            border-color: #410159;\n",
    "            letter-spacing:0.5px;\">\n",
    "\n",
    "<center><h3 style=\"padding: 5px 0px; color:#410159; font-weight: bold; font-family: Cursive\">\n",
    "CREDIT_CURRENCY</h3></center>\n",
    "</div>"
   ]
  },
  {
   "cell_type": "markdown",
   "metadata": {},
   "source": [
    "## Number of clients by credit currency\n",
    "### (from bureau)"
   ]
  },
  {
   "cell_type": "code",
   "execution_count": null,
   "metadata": {
    "_kg_hide-input": true
   },
   "outputs": [],
   "source": [
    "fig = px.histogram(join_4, x=\"CREDIT_CURRENCY\",\n",
    "                  barmode='group').update_xaxes(categoryorder = \"total descending\")\n",
    "# fig.update_traces(textfont_size=12, textangle=0, textposition=\"outside\", cliponaxis=False)\n",
    "fig.show()"
   ]
  },
  {
   "cell_type": "markdown",
   "metadata": {},
   "source": [
    "## Number of clients in each target class by credit currency\n",
    "### (from bureau)"
   ]
  },
  {
   "cell_type": "code",
   "execution_count": null,
   "metadata": {
    "_kg_hide-input": true
   },
   "outputs": [],
   "source": [
    "fig = px.histogram(join_4, x=\"CREDIT_CURRENCY\", color=\"TARGET\",\n",
    "                  barmode='group').update_xaxes(categoryorder = \"total descending\")\n",
    "# fig.update_traces(textfont_size=12, textangle=0, textposition=\"outside\", cliponaxis=False)\n",
    "fig.show()"
   ]
  },
  {
   "cell_type": "markdown",
   "metadata": {},
   "source": [
    "<div style=\"border-radius:10px;\n",
    "            background-color:#ffffff;\n",
    "            border-style: solid;\n",
    "            border-color: #410159;\n",
    "            letter-spacing:0.5px;\">\n",
    "\n",
    "<center><h3 style=\"padding: 5px 0px; color:#410159; font-weight: bold; font-family: Cursive\">\n",
    "DAYS_CREDIT</h3></center>\n",
    "</div>"
   ]
  },
  {
   "cell_type": "markdown",
   "metadata": {},
   "source": [
    "## Distribution of DAYS_CREDIT by target\n",
    "### (from bureau)"
   ]
  },
  {
   "cell_type": "code",
   "execution_count": null,
   "metadata": {
    "_kg_hide-input": true,
    "execution": {
     "iopub.status.idle": "2022-06-16T14:24:43.202687Z",
     "shell.execute_reply": "2022-06-16T14:24:43.201729Z",
     "shell.execute_reply.started": "2022-06-16T14:24:38.791665Z"
    }
   },
   "outputs": [],
   "source": [
    "fig = ff.create_distplot([np.abs(join_4[join_4['TARGET']==0]['DAYS_CREDIT']).dropna(), \n",
    "                          np.abs(join_4[join_4['TARGET']==1]['DAYS_CREDIT']).dropna()], \n",
    "                         ['target=> 0', 'target=> 1'],\n",
    "                         show_rug=False,\n",
    "                         show_hist=False,\n",
    "                         show_curve=True )\n",
    "\n",
    "fig.update_layout(xaxis = dict(title='DAYS_CREDIT'),\n",
    "                  yaxis =dict(title='Density'),\n",
    "                  barmode='overlay')\n",
    "\n",
    "fig.show()"
   ]
  },
  {
   "cell_type": "markdown",
   "metadata": {},
   "source": [
    "<div style=\"border-radius:10px;\n",
    "            background-color:#ffffff;\n",
    "            border-style: solid;\n",
    "            border-color: #410159;\n",
    "            letter-spacing:0.5px;\">\n",
    "\n",
    "<center><h3 style=\"padding: 5px 0px; color:#410159; font-weight: bold; font-family: Cursive\">\n",
    "CREDIT_TYPE</h3></center>\n",
    "</div>"
   ]
  },
  {
   "cell_type": "markdown",
   "metadata": {},
   "source": [
    "## Percentage of clients by credit type\n",
    "### (from bureau)"
   ]
  },
  {
   "cell_type": "code",
   "execution_count": null,
   "metadata": {
    "_kg_hide-input": true,
    "execution": {
     "iopub.execute_input": "2022-06-16T14:24:43.206051Z",
     "iopub.status.busy": "2022-06-16T14:24:43.205618Z",
     "iopub.status.idle": "2022-06-16T14:24:43.274673Z",
     "shell.execute_reply": "2022-06-16T14:24:43.273705Z",
     "shell.execute_reply.started": "2022-06-16T14:24:43.206014Z"
    },
    "scrolled": true
   },
   "outputs": [],
   "source": [
    "pie = go.Figure(data=[go.Pie(labels = join_4['CREDIT_TYPE'].value_counts().keys(),\n",
    "                             values = join_4['CREDIT_TYPE'].value_counts().values)])\n",
    "iplot(pie)"
   ]
  },
  {
   "cell_type": "markdown",
   "metadata": {},
   "source": [
    "## Number of clients in each target class by credit type\n",
    "### (from bureau)"
   ]
  },
  {
   "cell_type": "code",
   "execution_count": null,
   "metadata": {
    "_kg_hide-input": true,
    "execution": {
     "iopub.execute_input": "2022-06-16T14:24:43.276231Z",
     "iopub.status.busy": "2022-06-16T14:24:43.275857Z",
     "iopub.status.idle": "2022-06-16T14:24:45.364922Z",
     "shell.execute_reply": "2022-06-16T14:24:45.363394Z",
     "shell.execute_reply.started": "2022-06-16T14:24:43.276201Z"
    },
    "scrolled": true
   },
   "outputs": [],
   "source": [
    "fig = px.histogram(join_4, x=\"CREDIT_TYPE\",\n",
    "                  barmode='group').update_xaxes(categoryorder=\"total descending\")\n",
    "# fig.update_traces(textfont_size=12, textangle=0, textposition=\"outside\", cliponaxis=False)\n",
    "fig.show()"
   ]
  },
  {
   "cell_type": "markdown",
   "metadata": {},
   "source": [
    "<div style=\"border-radius:10px;\n",
    "            background-color:#ffffff;\n",
    "            border-style: solid;\n",
    "            border-color: #410159;\n",
    "            letter-spacing:0.5px;\">\n",
    "\n",
    "<center><h4 style=\"padding: 5px 0px; color:#442efb; font-weight: bold; font-family: Cursive\">\n",
    "    Merci pour votre attention. <br><br>Le Notebook original se trouve à l'adresse suivante : </h4></center>\n",
    "<center><h4 style=\"padding: 5px 0px; color:#442efb; font-weight: bold; font-family: Cursive\">\n",
    "https://www.kaggle.com/code/arezoodahesh/home-credit-default-risk-part01-eda/notebook#1.-application_train</h4></center>\n",
    "</div>"
   ]
  }
 ],
 "metadata": {
  "kernelspec": {
   "display_name": "Python 3 (ipykernel)",
   "language": "python",
   "name": "python3"
  },
  "language_info": {
   "codemirror_mode": {
    "name": "ipython",
    "version": 3
   },
   "file_extension": ".py",
   "mimetype": "text/x-python",
   "name": "python",
   "nbconvert_exporter": "python",
   "pygments_lexer": "ipython3",
   "version": "3.8.8"
  }
 },
 "nbformat": 4,
 "nbformat_minor": 4
}
